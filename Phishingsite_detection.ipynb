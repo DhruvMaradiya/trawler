{
  "cells": [
    {
      "cell_type": "code",
      "execution_count": 1,
      "metadata": {
        "colab": {
          "base_uri": "https://localhost:8080/"
        },
        "id": "SpmncEwAAtfP",
        "outputId": "3d0107da-2eee-4d8c-db59-4362f5f28ffb"
      },
      "outputs": [
        {
          "name": "stdout",
          "output_type": "stream",
          "text": [
            "Collecting selenium\n",
            "  Downloading selenium-4.1.3-py3-none-any.whl (968 kB)\n",
            "Collecting urllib3[secure,socks]~=1.26\n",
            "  Downloading urllib3-1.26.9-py2.py3-none-any.whl (138 kB)\n",
            "Collecting trio-websocket~=0.9\n",
            "  Downloading trio_websocket-0.9.2-py3-none-any.whl (16 kB)\n",
            "Collecting trio~=0.17\n",
            "  Downloading trio-0.20.0-py3-none-any.whl (359 kB)\n",
            "Requirement already satisfied: sniffio in d:\\python\\lib\\site-packages (from trio~=0.17->selenium) (1.2.0)\n",
            "Collecting sortedcontainers\n",
            "  Downloading sortedcontainers-2.4.0-py2.py3-none-any.whl (29 kB)\n",
            "Collecting attrs>=19.2.0\n",
            "  Downloading attrs-21.4.0-py2.py3-none-any.whl (60 kB)\n",
            "Collecting cffi>=1.14\n",
            "  Downloading cffi-1.15.0-cp310-cp310-win_amd64.whl (180 kB)\n",
            "Requirement already satisfied: idna in d:\\python\\lib\\site-packages (from trio~=0.17->selenium) (3.3)\n",
            "Collecting async-generator>=1.9\n",
            "  Downloading async_generator-1.10-py3-none-any.whl (18 kB)\n",
            "Collecting outcome\n",
            "  Downloading outcome-1.1.0-py2.py3-none-any.whl (9.7 kB)\n",
            "Collecting pycparser\n",
            "  Downloading pycparser-2.21-py2.py3-none-any.whl (118 kB)\n",
            "Collecting wsproto>=0.14\n",
            "  Downloading wsproto-1.1.0-py3-none-any.whl (24 kB)\n",
            "Collecting cryptography>=1.3.4\n",
            "  Downloading cryptography-36.0.2-cp36-abi3-win_amd64.whl (2.2 MB)\n",
            "Collecting pyOpenSSL>=0.14\n",
            "  Downloading pyOpenSSL-22.0.0-py2.py3-none-any.whl (55 kB)\n",
            "Collecting certifi\n",
            "  Downloading certifi-2021.10.8-py2.py3-none-any.whl (149 kB)\n",
            "Collecting PySocks!=1.5.7,<2.0,>=1.5.6\n",
            "  Downloading PySocks-1.7.1-py3-none-any.whl (16 kB)\n",
            "Requirement already satisfied: h11<1,>=0.9.0 in d:\\python\\lib\\site-packages (from wsproto>=0.14->trio-websocket~=0.9->selenium) (0.13.0)\n",
            "Installing collected packages: pycparser, cffi, attrs, sortedcontainers, outcome, cryptography, async-generator, wsproto, urllib3, trio, PySocks, pyOpenSSL, certifi, trio-websocket, selenium\n",
            "Successfully installed PySocks-1.7.1 async-generator-1.10 attrs-21.4.0 certifi-2021.10.8 cffi-1.15.0 cryptography-36.0.2 outcome-1.1.0 pyOpenSSL-22.0.0 pycparser-2.21 selenium-4.1.3 sortedcontainers-2.4.0 trio-0.20.0 trio-websocket-0.9.2 urllib3-1.26.9 wsproto-1.1.0\n",
            "Note: you may need to restart the kernel to use updated packages.\n"
          ]
        },
        {
          "name": "stderr",
          "output_type": "stream",
          "text": [
            "WARNING: You are using pip version 21.2.4; however, version 22.0.4 is available.\n",
            "You should consider upgrading via the 'D:\\python\\python.exe -m pip install --upgrade pip' command.\n"
          ]
        }
      ],
      "source": [
        "%pip install selenium"
      ]
    },
    {
      "cell_type": "code",
      "execution_count": null,
      "metadata": {
        "id": "K0HlMYyrjU3Z"
      },
      "outputs": [],
      "source": [
        "import pandas as pd # use for data manipulation and analysis\n",
        "import numpy as np # use for multi-dimensional array and matrix\n",
        "\n",
        "import seaborn as sns # use for high-level interface for drawing attractive and informative statistical graphics \n",
        "import matplotlib.pyplot as plt # It provides an object-oriented API for embedding plots into applications\n",
        "%matplotlib inline \n",
        "# It sets the backend of matplotlib to the 'inline' backend:\n",
        "import time # calculate time \n",
        "\n",
        "from sklearn.linear_model import LogisticRegression # algo use to predict good or bad\n",
        "from sklearn.naive_bayes import MultinomialNB # nlp algo use to predict good or bad\n",
        "\n",
        "from sklearn.model_selection import train_test_split # spliting the data between feature and target\n",
        "from sklearn.metrics import classification_report # gives whole report about metrics (e.g, recall,precision,f1_score,c_m)\n",
        "from sklearn.metrics import confusion_matrix # gives info about actual and predict\n",
        "from nltk.tokenize import RegexpTokenizer # regexp tokenizers use to split words from text  \n",
        "from nltk.stem.snowball import SnowballStemmer # stemmes words\n",
        "from sklearn.feature_extraction.text import CountVectorizer # create sparse matrix of words using regexptokenizes  \n",
        "from sklearn.pipeline import make_pipeline # use for combining all prerocessors techniuqes and algos\n",
        "\n",
        "from PIL import Image # getting images in notebook\n",
        "# from wordcloud import WordCloud, STOPWORDS, ImageColorGenerator# creates words colud\n",
        "\n",
        "from bs4 import BeautifulSoup # use for scraping the data from website\n",
        "from selenium import webdriver # use for automation chrome \n",
        "import networkx as nx # for the creation, manipulation, and study of the structure, dynamics, and functions of complex networks.\n",
        "\n",
        "import pickle# use to dump model \n",
        "\n",
        "import warnings # ignores pink warnings \n",
        "warnings.filterwarnings('ignore')"
      ]
    },
    {
      "cell_type": "code",
      "execution_count": null,
      "metadata": {
        "colab": {
          "base_uri": "https://localhost:8080/"
        },
        "id": "2unmdhw3mMdK",
        "outputId": "70dabc20-7020-4c6c-c39c-0ae34e513bee"
      },
      "outputs": [
        {
          "name": "stdout",
          "output_type": "stream",
          "text": [
            "Requirement already satisfied: selenium in /usr/local/lib/python3.7/dist-packages (4.1.3)\n",
            "Requirement already satisfied: trio-websocket~=0.9 in /usr/local/lib/python3.7/dist-packages (from selenium) (0.9.2)\n",
            "Requirement already satisfied: trio~=0.17 in /usr/local/lib/python3.7/dist-packages (from selenium) (0.20.0)\n",
            "Requirement already satisfied: urllib3[secure,socks]~=1.26 in /usr/local/lib/python3.7/dist-packages (from selenium) (1.26.8)\n",
            "Requirement already satisfied: async-generator>=1.9 in /usr/local/lib/python3.7/dist-packages (from trio~=0.17->selenium) (1.10)\n",
            "Requirement already satisfied: sortedcontainers in /usr/local/lib/python3.7/dist-packages (from trio~=0.17->selenium) (2.4.0)\n",
            "Requirement already satisfied: idna in /usr/local/lib/python3.7/dist-packages (from trio~=0.17->selenium) (2.10)\n",
            "Requirement already satisfied: sniffio in /usr/local/lib/python3.7/dist-packages (from trio~=0.17->selenium) (1.2.0)\n",
            "Requirement already satisfied: attrs>=19.2.0 in /usr/local/lib/python3.7/dist-packages (from trio~=0.17->selenium) (21.4.0)\n",
            "Requirement already satisfied: outcome in /usr/local/lib/python3.7/dist-packages (from trio~=0.17->selenium) (1.1.0)\n",
            "Requirement already satisfied: wsproto>=0.14 in /usr/local/lib/python3.7/dist-packages (from trio-websocket~=0.9->selenium) (1.1.0)\n",
            "Requirement already satisfied: pyOpenSSL>=0.14 in /usr/local/lib/python3.7/dist-packages (from urllib3[secure,socks]~=1.26->selenium) (22.0.0)\n",
            "Requirement already satisfied: certifi in /usr/local/lib/python3.7/dist-packages (from urllib3[secure,socks]~=1.26->selenium) (2021.10.8)\n",
            "Requirement already satisfied: cryptography>=1.3.4 in /usr/local/lib/python3.7/dist-packages (from urllib3[secure,socks]~=1.26->selenium) (36.0.1)\n",
            "Requirement already satisfied: PySocks!=1.5.7,<2.0,>=1.5.6 in /usr/local/lib/python3.7/dist-packages (from urllib3[secure,socks]~=1.26->selenium) (1.7.1)\n",
            "Requirement already satisfied: cffi>=1.12 in /usr/local/lib/python3.7/dist-packages (from cryptography>=1.3.4->urllib3[secure,socks]~=1.26->selenium) (1.15.0)\n",
            "Requirement already satisfied: pycparser in /usr/local/lib/python3.7/dist-packages (from cffi>=1.12->cryptography>=1.3.4->urllib3[secure,socks]~=1.26->selenium) (2.21)\n",
            "Requirement already satisfied: h11<1,>=0.9.0 in /usr/local/lib/python3.7/dist-packages (from wsproto>=0.14->trio-websocket~=0.9->selenium) (0.13.0)\n",
            "Requirement already satisfied: typing-extensions in /usr/local/lib/python3.7/dist-packages (from h11<1,>=0.9.0->wsproto>=0.14->trio-websocket~=0.9->selenium) (3.10.0.2)\n"
          ]
        }
      ],
      "source": [
        "pip install selenium"
      ]
    },
    {
      "cell_type": "code",
      "execution_count": null,
      "metadata": {
        "colab": {
          "base_uri": "https://localhost:8080/"
        },
        "id": "nDhEfFkImphP",
        "outputId": "53d14355-9b4e-4bde-ee09-8b4ed9a5c09d"
      },
      "outputs": [
        {
          "name": "stdout",
          "output_type": "stream",
          "text": [
            "Mounted at /gdrive\n",
            "/gdrive\n"
          ]
        }
      ],
      "source": [
        "from google.colab import drive\n",
        "drive.mount('/gdrive')\n",
        "%cd /gdrive"
      ]
    },
    {
      "cell_type": "code",
      "execution_count": null,
      "metadata": {
        "colab": {
          "base_uri": "https://localhost:8080/"
        },
        "id": "cBwzZ0cxmwJn",
        "outputId": "9d05bfe6-3fdf-49c1-f2eb-23fb70b46bca"
      },
      "outputs": [
        {
          "name": "stdout",
          "output_type": "stream",
          "text": [
            "/gdrive/My Drive/Datasets\n"
          ]
        }
      ],
      "source": [
        "%cd My Drive/Datasets/"
      ]
    },
    {
      "cell_type": "code",
      "execution_count": null,
      "metadata": {
        "id": "HnBKKe9ym4E-"
      },
      "outputs": [],
      "source": [
        "phish_data = pd.read_csv(\"phishing_site_urls.csv\")"
      ]
    },
    {
      "cell_type": "code",
      "execution_count": null,
      "metadata": {
        "colab": {
          "base_uri": "https://localhost:8080/",
          "height": 206
        },
        "id": "y0xHK3UPnXn4",
        "outputId": "14096f6f-551c-4086-d9c5-aa1cf6263454"
      },
      "outputs": [
        {
          "data": {
            "text/html": [
              "\n",
              "  <div id=\"df-88400254-7242-48ab-920b-109c572b819e\">\n",
              "    <div class=\"colab-df-container\">\n",
              "      <div>\n",
              "<style scoped>\n",
              "    .dataframe tbody tr th:only-of-type {\n",
              "        vertical-align: middle;\n",
              "    }\n",
              "\n",
              "    .dataframe tbody tr th {\n",
              "        vertical-align: top;\n",
              "    }\n",
              "\n",
              "    .dataframe thead th {\n",
              "        text-align: right;\n",
              "    }\n",
              "</style>\n",
              "<table border=\"1\" class=\"dataframe\">\n",
              "  <thead>\n",
              "    <tr style=\"text-align: right;\">\n",
              "      <th></th>\n",
              "      <th>URL</th>\n",
              "      <th>Label</th>\n",
              "    </tr>\n",
              "  </thead>\n",
              "  <tbody>\n",
              "    <tr>\n",
              "      <th>0</th>\n",
              "      <td>nobell.it/70ffb52d079109dca5664cce6f317373782/...</td>\n",
              "      <td>bad</td>\n",
              "    </tr>\n",
              "    <tr>\n",
              "      <th>1</th>\n",
              "      <td>www.dghjdgf.com/paypal.co.uk/cycgi-bin/webscrc...</td>\n",
              "      <td>bad</td>\n",
              "    </tr>\n",
              "    <tr>\n",
              "      <th>2</th>\n",
              "      <td>serviciosbys.com/paypal.cgi.bin.get-into.herf....</td>\n",
              "      <td>bad</td>\n",
              "    </tr>\n",
              "    <tr>\n",
              "      <th>3</th>\n",
              "      <td>mail.printakid.com/www.online.americanexpress....</td>\n",
              "      <td>bad</td>\n",
              "    </tr>\n",
              "    <tr>\n",
              "      <th>4</th>\n",
              "      <td>thewhiskeydregs.com/wp-content/themes/widescre...</td>\n",
              "      <td>bad</td>\n",
              "    </tr>\n",
              "  </tbody>\n",
              "</table>\n",
              "</div>\n",
              "      <button class=\"colab-df-convert\" onclick=\"convertToInteractive('df-88400254-7242-48ab-920b-109c572b819e')\"\n",
              "              title=\"Convert this dataframe to an interactive table.\"\n",
              "              style=\"display:none;\">\n",
              "        \n",
              "  <svg xmlns=\"http://www.w3.org/2000/svg\" height=\"24px\"viewBox=\"0 0 24 24\"\n",
              "       width=\"24px\">\n",
              "    <path d=\"M0 0h24v24H0V0z\" fill=\"none\"/>\n",
              "    <path d=\"M18.56 5.44l.94 2.06.94-2.06 2.06-.94-2.06-.94-.94-2.06-.94 2.06-2.06.94zm-11 1L8.5 8.5l.94-2.06 2.06-.94-2.06-.94L8.5 2.5l-.94 2.06-2.06.94zm10 10l.94 2.06.94-2.06 2.06-.94-2.06-.94-.94-2.06-.94 2.06-2.06.94z\"/><path d=\"M17.41 7.96l-1.37-1.37c-.4-.4-.92-.59-1.43-.59-.52 0-1.04.2-1.43.59L10.3 9.45l-7.72 7.72c-.78.78-.78 2.05 0 2.83L4 21.41c.39.39.9.59 1.41.59.51 0 1.02-.2 1.41-.59l7.78-7.78 2.81-2.81c.8-.78.8-2.07 0-2.86zM5.41 20L4 18.59l7.72-7.72 1.47 1.35L5.41 20z\"/>\n",
              "  </svg>\n",
              "      </button>\n",
              "      \n",
              "  <style>\n",
              "    .colab-df-container {\n",
              "      display:flex;\n",
              "      flex-wrap:wrap;\n",
              "      gap: 12px;\n",
              "    }\n",
              "\n",
              "    .colab-df-convert {\n",
              "      background-color: #E8F0FE;\n",
              "      border: none;\n",
              "      border-radius: 50%;\n",
              "      cursor: pointer;\n",
              "      display: none;\n",
              "      fill: #1967D2;\n",
              "      height: 32px;\n",
              "      padding: 0 0 0 0;\n",
              "      width: 32px;\n",
              "    }\n",
              "\n",
              "    .colab-df-convert:hover {\n",
              "      background-color: #E2EBFA;\n",
              "      box-shadow: 0px 1px 2px rgba(60, 64, 67, 0.3), 0px 1px 3px 1px rgba(60, 64, 67, 0.15);\n",
              "      fill: #174EA6;\n",
              "    }\n",
              "\n",
              "    [theme=dark] .colab-df-convert {\n",
              "      background-color: #3B4455;\n",
              "      fill: #D2E3FC;\n",
              "    }\n",
              "\n",
              "    [theme=dark] .colab-df-convert:hover {\n",
              "      background-color: #434B5C;\n",
              "      box-shadow: 0px 1px 3px 1px rgba(0, 0, 0, 0.15);\n",
              "      filter: drop-shadow(0px 1px 2px rgba(0, 0, 0, 0.3));\n",
              "      fill: #FFFFFF;\n",
              "    }\n",
              "  </style>\n",
              "\n",
              "      <script>\n",
              "        const buttonEl =\n",
              "          document.querySelector('#df-88400254-7242-48ab-920b-109c572b819e button.colab-df-convert');\n",
              "        buttonEl.style.display =\n",
              "          google.colab.kernel.accessAllowed ? 'block' : 'none';\n",
              "\n",
              "        async function convertToInteractive(key) {\n",
              "          const element = document.querySelector('#df-88400254-7242-48ab-920b-109c572b819e');\n",
              "          const dataTable =\n",
              "            await google.colab.kernel.invokeFunction('convertToInteractive',\n",
              "                                                     [key], {});\n",
              "          if (!dataTable) return;\n",
              "\n",
              "          const docLinkHtml = 'Like what you see? Visit the ' +\n",
              "            '<a target=\"_blank\" href=https://colab.research.google.com/notebooks/data_table.ipynb>data table notebook</a>'\n",
              "            + ' to learn more about interactive tables.';\n",
              "          element.innerHTML = '';\n",
              "          dataTable['output_type'] = 'display_data';\n",
              "          await google.colab.output.renderOutput(dataTable, element);\n",
              "          const docLink = document.createElement('div');\n",
              "          docLink.innerHTML = docLinkHtml;\n",
              "          element.appendChild(docLink);\n",
              "        }\n",
              "      </script>\n",
              "    </div>\n",
              "  </div>\n",
              "  "
            ],
            "text/plain": [
              "                                                 URL Label\n",
              "0  nobell.it/70ffb52d079109dca5664cce6f317373782/...   bad\n",
              "1  www.dghjdgf.com/paypal.co.uk/cycgi-bin/webscrc...   bad\n",
              "2  serviciosbys.com/paypal.cgi.bin.get-into.herf....   bad\n",
              "3  mail.printakid.com/www.online.americanexpress....   bad\n",
              "4  thewhiskeydregs.com/wp-content/themes/widescre...   bad"
            ]
          },
          "execution_count": 12,
          "metadata": {},
          "output_type": "execute_result"
        }
      ],
      "source": [
        "phish_data.head()"
      ]
    },
    {
      "cell_type": "code",
      "execution_count": null,
      "metadata": {
        "colab": {
          "base_uri": "https://localhost:8080/",
          "height": 206
        },
        "id": "v-YPcd8ZnZJX",
        "outputId": "e506f8b9-62be-43f5-8e6f-78338eba692f"
      },
      "outputs": [
        {
          "data": {
            "text/html": [
              "\n",
              "  <div id=\"df-947f35c5-d81a-48b4-a7e3-69581698d915\">\n",
              "    <div class=\"colab-df-container\">\n",
              "      <div>\n",
              "<style scoped>\n",
              "    .dataframe tbody tr th:only-of-type {\n",
              "        vertical-align: middle;\n",
              "    }\n",
              "\n",
              "    .dataframe tbody tr th {\n",
              "        vertical-align: top;\n",
              "    }\n",
              "\n",
              "    .dataframe thead th {\n",
              "        text-align: right;\n",
              "    }\n",
              "</style>\n",
              "<table border=\"1\" class=\"dataframe\">\n",
              "  <thead>\n",
              "    <tr style=\"text-align: right;\">\n",
              "      <th></th>\n",
              "      <th>URL</th>\n",
              "      <th>Label</th>\n",
              "    </tr>\n",
              "  </thead>\n",
              "  <tbody>\n",
              "    <tr>\n",
              "      <th>549341</th>\n",
              "      <td>23.227.196.215/</td>\n",
              "      <td>bad</td>\n",
              "    </tr>\n",
              "    <tr>\n",
              "      <th>549342</th>\n",
              "      <td>apple-checker.org/</td>\n",
              "      <td>bad</td>\n",
              "    </tr>\n",
              "    <tr>\n",
              "      <th>549343</th>\n",
              "      <td>apple-iclods.org/</td>\n",
              "      <td>bad</td>\n",
              "    </tr>\n",
              "    <tr>\n",
              "      <th>549344</th>\n",
              "      <td>apple-uptoday.org/</td>\n",
              "      <td>bad</td>\n",
              "    </tr>\n",
              "    <tr>\n",
              "      <th>549345</th>\n",
              "      <td>apple-search.info</td>\n",
              "      <td>bad</td>\n",
              "    </tr>\n",
              "  </tbody>\n",
              "</table>\n",
              "</div>\n",
              "      <button class=\"colab-df-convert\" onclick=\"convertToInteractive('df-947f35c5-d81a-48b4-a7e3-69581698d915')\"\n",
              "              title=\"Convert this dataframe to an interactive table.\"\n",
              "              style=\"display:none;\">\n",
              "        \n",
              "  <svg xmlns=\"http://www.w3.org/2000/svg\" height=\"24px\"viewBox=\"0 0 24 24\"\n",
              "       width=\"24px\">\n",
              "    <path d=\"M0 0h24v24H0V0z\" fill=\"none\"/>\n",
              "    <path d=\"M18.56 5.44l.94 2.06.94-2.06 2.06-.94-2.06-.94-.94-2.06-.94 2.06-2.06.94zm-11 1L8.5 8.5l.94-2.06 2.06-.94-2.06-.94L8.5 2.5l-.94 2.06-2.06.94zm10 10l.94 2.06.94-2.06 2.06-.94-2.06-.94-.94-2.06-.94 2.06-2.06.94z\"/><path d=\"M17.41 7.96l-1.37-1.37c-.4-.4-.92-.59-1.43-.59-.52 0-1.04.2-1.43.59L10.3 9.45l-7.72 7.72c-.78.78-.78 2.05 0 2.83L4 21.41c.39.39.9.59 1.41.59.51 0 1.02-.2 1.41-.59l7.78-7.78 2.81-2.81c.8-.78.8-2.07 0-2.86zM5.41 20L4 18.59l7.72-7.72 1.47 1.35L5.41 20z\"/>\n",
              "  </svg>\n",
              "      </button>\n",
              "      \n",
              "  <style>\n",
              "    .colab-df-container {\n",
              "      display:flex;\n",
              "      flex-wrap:wrap;\n",
              "      gap: 12px;\n",
              "    }\n",
              "\n",
              "    .colab-df-convert {\n",
              "      background-color: #E8F0FE;\n",
              "      border: none;\n",
              "      border-radius: 50%;\n",
              "      cursor: pointer;\n",
              "      display: none;\n",
              "      fill: #1967D2;\n",
              "      height: 32px;\n",
              "      padding: 0 0 0 0;\n",
              "      width: 32px;\n",
              "    }\n",
              "\n",
              "    .colab-df-convert:hover {\n",
              "      background-color: #E2EBFA;\n",
              "      box-shadow: 0px 1px 2px rgba(60, 64, 67, 0.3), 0px 1px 3px 1px rgba(60, 64, 67, 0.15);\n",
              "      fill: #174EA6;\n",
              "    }\n",
              "\n",
              "    [theme=dark] .colab-df-convert {\n",
              "      background-color: #3B4455;\n",
              "      fill: #D2E3FC;\n",
              "    }\n",
              "\n",
              "    [theme=dark] .colab-df-convert:hover {\n",
              "      background-color: #434B5C;\n",
              "      box-shadow: 0px 1px 3px 1px rgba(0, 0, 0, 0.15);\n",
              "      filter: drop-shadow(0px 1px 2px rgba(0, 0, 0, 0.3));\n",
              "      fill: #FFFFFF;\n",
              "    }\n",
              "  </style>\n",
              "\n",
              "      <script>\n",
              "        const buttonEl =\n",
              "          document.querySelector('#df-947f35c5-d81a-48b4-a7e3-69581698d915 button.colab-df-convert');\n",
              "        buttonEl.style.display =\n",
              "          google.colab.kernel.accessAllowed ? 'block' : 'none';\n",
              "\n",
              "        async function convertToInteractive(key) {\n",
              "          const element = document.querySelector('#df-947f35c5-d81a-48b4-a7e3-69581698d915');\n",
              "          const dataTable =\n",
              "            await google.colab.kernel.invokeFunction('convertToInteractive',\n",
              "                                                     [key], {});\n",
              "          if (!dataTable) return;\n",
              "\n",
              "          const docLinkHtml = 'Like what you see? Visit the ' +\n",
              "            '<a target=\"_blank\" href=https://colab.research.google.com/notebooks/data_table.ipynb>data table notebook</a>'\n",
              "            + ' to learn more about interactive tables.';\n",
              "          element.innerHTML = '';\n",
              "          dataTable['output_type'] = 'display_data';\n",
              "          await google.colab.output.renderOutput(dataTable, element);\n",
              "          const docLink = document.createElement('div');\n",
              "          docLink.innerHTML = docLinkHtml;\n",
              "          element.appendChild(docLink);\n",
              "        }\n",
              "      </script>\n",
              "    </div>\n",
              "  </div>\n",
              "  "
            ],
            "text/plain": [
              "                       URL Label\n",
              "549341     23.227.196.215/   bad\n",
              "549342  apple-checker.org/   bad\n",
              "549343   apple-iclods.org/   bad\n",
              "549344  apple-uptoday.org/   bad\n",
              "549345   apple-search.info   bad"
            ]
          },
          "execution_count": 13,
          "metadata": {},
          "output_type": "execute_result"
        }
      ],
      "source": [
        "phish_data.tail()"
      ]
    },
    {
      "cell_type": "code",
      "execution_count": null,
      "metadata": {
        "colab": {
          "base_uri": "https://localhost:8080/"
        },
        "id": "Y-cX9c-snafB",
        "outputId": "e24fa9a5-aa77-40de-b650-fcbc96ca1033"
      },
      "outputs": [
        {
          "name": "stdout",
          "output_type": "stream",
          "text": [
            "<class 'pandas.core.frame.DataFrame'>\n",
            "RangeIndex: 549346 entries, 0 to 549345\n",
            "Data columns (total 2 columns):\n",
            " #   Column  Non-Null Count   Dtype \n",
            "---  ------  --------------   ----- \n",
            " 0   URL     549346 non-null  object\n",
            " 1   Label   549346 non-null  object\n",
            "dtypes: object(2)\n",
            "memory usage: 8.4+ MB\n"
          ]
        }
      ],
      "source": [
        "phish_data.info()"
      ]
    },
    {
      "cell_type": "code",
      "execution_count": null,
      "metadata": {
        "colab": {
          "base_uri": "https://localhost:8080/"
        },
        "id": "_GHlNAVmndxd",
        "outputId": "592504f9-9b06-4454-d8c8-8da21851f1c8"
      },
      "outputs": [
        {
          "data": {
            "text/plain": [
              "URL      0\n",
              "Label    0\n",
              "dtype: int64"
            ]
          },
          "execution_count": 15,
          "metadata": {},
          "output_type": "execute_result"
        }
      ],
      "source": [
        "phish_data.isnull().sum()"
      ]
    },
    {
      "cell_type": "code",
      "execution_count": null,
      "metadata": {
        "id": "1RVXqWZhngZb"
      },
      "outputs": [],
      "source": [
        "#create a dataframe of classes counts\n",
        "label_counts = pd.DataFrame(phish_data.Label.value_counts())"
      ]
    },
    {
      "cell_type": "code",
      "execution_count": null,
      "metadata": {
        "colab": {
          "base_uri": "https://localhost:8080/",
          "height": 282
        },
        "id": "F38IWvxSnh_r",
        "outputId": "29b2e72b-ebbe-4afa-9855-8cb40698865e"
      },
      "outputs": [
        {
          "data": {
            "text/plain": [
              "<matplotlib.axes._subplots.AxesSubplot at 0x7fa50d14f150>"
            ]
          },
          "execution_count": 17,
          "metadata": {},
          "output_type": "execute_result"
        },
        {
          "data": {
            "image/png": "[encoded data removed]",
            "text/plain": [
              "<Figure size 432x288 with 1 Axes>"
            ]
          },
          "metadata": {},
          "output_type": "display_data"
        }
      ],
      "source": [
        "#visualizing target_col\n",
        "sns.set_style('darkgrid')\n",
        "sns.barplot(label_counts.index,label_counts.Label)"
      ]
    },
    {
      "cell_type": "code",
      "execution_count": null,
      "metadata": {
        "id": "FXiQzXBInoZR"
      },
      "outputs": [],
      "source": [
        "tokenizer = RegexpTokenizer(r'[A-Za-z]+')"
      ]
    },
    {
      "cell_type": "code",
      "execution_count": null,
      "metadata": {
        "colab": {
          "base_uri": "https://localhost:8080/",
          "height": 53
        },
        "id": "LeUh90UVnpwv",
        "outputId": "daaf782c-8b11-4497-fa32-8d1b54856eb7"
      },
      "outputs": [
        {
          "data": {
            "application/vnd.google.colaboratory.intrinsic+json": {
              "type": "string"
            },
            "text/plain": [
              "'nobell.it/70ffb52d079109dca5664cce6f317373782/login.SkyPe.com/en/cgi-bin/verification/login/70ffb52d079109dca5664cce6f317373/index.php?cmd=_profile-ach&outdated_page_tmpl=p/gen/failed-to-load&nav=0.5.1&login_access=1322408526'"
            ]
          },
          "execution_count": 19,
          "metadata": {},
          "output_type": "execute_result"
        }
      ],
      "source": [
        "phish_data.URL[0]"
      ]
    },
    {
      "cell_type": "code",
      "execution_count": null,
      "metadata": {
        "colab": {
          "base_uri": "https://localhost:8080/"
        },
        "id": "8nYmBjUCnrjK",
        "outputId": "8370be69-3b2b-4e72-abc4-ff430dbbb800"
      },
      "outputs": [
        {
          "data": {
            "text/plain": [
              "['nobell',\n",
              " 'it',\n",
              " 'ffb',\n",
              " 'd',\n",
              " 'dca',\n",
              " 'cce',\n",
              " 'f',\n",
              " 'login',\n",
              " 'SkyPe',\n",
              " 'com',\n",
              " 'en',\n",
              " 'cgi',\n",
              " 'bin',\n",
              " 'verification',\n",
              " 'login',\n",
              " 'ffb',\n",
              " 'd',\n",
              " 'dca',\n",
              " 'cce',\n",
              " 'f',\n",
              " 'index',\n",
              " 'php',\n",
              " 'cmd',\n",
              " 'profile',\n",
              " 'ach',\n",
              " 'outdated',\n",
              " 'page',\n",
              " 'tmpl',\n",
              " 'p',\n",
              " 'gen',\n",
              " 'failed',\n",
              " 'to',\n",
              " 'load',\n",
              " 'nav',\n",
              " 'login',\n",
              " 'access']"
            ]
          },
          "execution_count": 20,
          "metadata": {},
          "output_type": "execute_result"
        }
      ],
      "source": [
        "# this will be pull letter which matches to expression\n",
        "tokenizer.tokenize(phish_data.URL[0]) # using first row"
      ]
    },
    {
      "cell_type": "code",
      "execution_count": null,
      "metadata": {
        "colab": {
          "base_uri": "https://localhost:8080/"
        },
        "id": "UztJCsNAntQG",
        "outputId": "03b6f829-c12d-41c6-ff25-684396e72d98"
      },
      "outputs": [
        {
          "name": "stdout",
          "output_type": "stream",
          "text": [
            "Getting words tokenized ...\n",
            "Time taken 2.3086663789999875 sec\n"
          ]
        }
      ],
      "source": [
        "print('Getting words tokenized ...')\n",
        "t0= time.perf_counter()\n",
        "phish_data['text_tokenized'] = phish_data.URL.map(lambda t: tokenizer.tokenize(t)) # doing with all rows\n",
        "t1 = time.perf_counter() - t0\n",
        "print('Time taken',t1 ,'sec')"
      ]
    },
    {
      "cell_type": "code",
      "execution_count": null,
      "metadata": {
        "colab": {
          "base_uri": "https://localhost:8080/",
          "height": 206
        },
        "id": "ue8QBsuXnwNI",
        "outputId": "aa78e5ca-28bd-456b-ab62-070c3f222b64"
      },
      "outputs": [
        {
          "data": {
            "text/html": [
              "\n",
              "  <div id=\"df-2652575c-7621-41f4-8364-6a5331dd69eb\">\n",
              "    <div class=\"colab-df-container\">\n",
              "      <div>\n",
              "<style scoped>\n",
              "    .dataframe tbody tr th:only-of-type {\n",
              "        vertical-align: middle;\n",
              "    }\n",
              "\n",
              "    .dataframe tbody tr th {\n",
              "        vertical-align: top;\n",
              "    }\n",
              "\n",
              "    .dataframe thead th {\n",
              "        text-align: right;\n",
              "    }\n",
              "</style>\n",
              "<table border=\"1\" class=\"dataframe\">\n",
              "  <thead>\n",
              "    <tr style=\"text-align: right;\">\n",
              "      <th></th>\n",
              "      <th>URL</th>\n",
              "      <th>Label</th>\n",
              "      <th>text_tokenized</th>\n",
              "    </tr>\n",
              "  </thead>\n",
              "  <tbody>\n",
              "    <tr>\n",
              "      <th>124765</th>\n",
              "      <td>sjc-login.dotomi.com/commonid/match?rurl=http:...</td>\n",
              "      <td>bad</td>\n",
              "      <td>[sjc, login, dotomi, com, commonid, match, rur...</td>\n",
              "    </tr>\n",
              "    <tr>\n",
              "      <th>529937</th>\n",
              "      <td>mystyleparrucchieri.com/nd2vj1ux</td>\n",
              "      <td>bad</td>\n",
              "      <td>[mystyleparrucchieri, com, nd, vj, ux]</td>\n",
              "    </tr>\n",
              "    <tr>\n",
              "      <th>435099</th>\n",
              "      <td>spiritus-temporis.com/filthy-thieving-bastards/</td>\n",
              "      <td>good</td>\n",
              "      <td>[spiritus, temporis, com, filthy, thieving, ba...</td>\n",
              "    </tr>\n",
              "    <tr>\n",
              "      <th>346306</th>\n",
              "      <td>goal.com/en-us/news/594/concacaf-champions-lea...</td>\n",
              "      <td>good</td>\n",
              "      <td>[goal, com, en, us, news, concacaf, champions,...</td>\n",
              "    </tr>\n",
              "    <tr>\n",
              "      <th>439036</th>\n",
              "      <td>stellarcards.com/index.php/products/checklist/</td>\n",
              "      <td>good</td>\n",
              "      <td>[stellarcards, com, index, php, products, chec...</td>\n",
              "    </tr>\n",
              "  </tbody>\n",
              "</table>\n",
              "</div>\n",
              "      <button class=\"colab-df-convert\" onclick=\"convertToInteractive('df-2652575c-7621-41f4-8364-6a5331dd69eb')\"\n",
              "              title=\"Convert this dataframe to an interactive table.\"\n",
              "              style=\"display:none;\">\n",
              "        \n",
              "  <svg xmlns=\"http://www.w3.org/2000/svg\" height=\"24px\"viewBox=\"0 0 24 24\"\n",
              "       width=\"24px\">\n",
              "    <path d=\"M0 0h24v24H0V0z\" fill=\"none\"/>\n",
              "    <path d=\"M18.56 5.44l.94 2.06.94-2.06 2.06-.94-2.06-.94-.94-2.06-.94 2.06-2.06.94zm-11 1L8.5 8.5l.94-2.06 2.06-.94-2.06-.94L8.5 2.5l-.94 2.06-2.06.94zm10 10l.94 2.06.94-2.06 2.06-.94-2.06-.94-.94-2.06-.94 2.06-2.06.94z\"/><path d=\"M17.41 7.96l-1.37-1.37c-.4-.4-.92-.59-1.43-.59-.52 0-1.04.2-1.43.59L10.3 9.45l-7.72 7.72c-.78.78-.78 2.05 0 2.83L4 21.41c.39.39.9.59 1.41.59.51 0 1.02-.2 1.41-.59l7.78-7.78 2.81-2.81c.8-.78.8-2.07 0-2.86zM5.41 20L4 18.59l7.72-7.72 1.47 1.35L5.41 20z\"/>\n",
              "  </svg>\n",
              "      </button>\n",
              "      \n",
              "  <style>\n",
              "    .colab-df-container {\n",
              "      display:flex;\n",
              "      flex-wrap:wrap;\n",
              "      gap: 12px;\n",
              "    }\n",
              "\n",
              "    .colab-df-convert {\n",
              "      background-color: #E8F0FE;\n",
              "      border: none;\n",
              "      border-radius: 50%;\n",
              "      cursor: pointer;\n",
              "      display: none;\n",
              "      fill: #1967D2;\n",
              "      height: 32px;\n",
              "      padding: 0 0 0 0;\n",
              "      width: 32px;\n",
              "    }\n",
              "\n",
              "    .colab-df-convert:hover {\n",
              "      background-color: #E2EBFA;\n",
              "      box-shadow: 0px 1px 2px rgba(60, 64, 67, 0.3), 0px 1px 3px 1px rgba(60, 64, 67, 0.15);\n",
              "      fill: #174EA6;\n",
              "    }\n",
              "\n",
              "    [theme=dark] .colab-df-convert {\n",
              "      background-color: #3B4455;\n",
              "      fill: #D2E3FC;\n",
              "    }\n",
              "\n",
              "    [theme=dark] .colab-df-convert:hover {\n",
              "      background-color: #434B5C;\n",
              "      box-shadow: 0px 1px 3px 1px rgba(0, 0, 0, 0.15);\n",
              "      filter: drop-shadow(0px 1px 2px rgba(0, 0, 0, 0.3));\n",
              "      fill: #FFFFFF;\n",
              "    }\n",
              "  </style>\n",
              "\n",
              "      <script>\n",
              "        const buttonEl =\n",
              "          document.querySelector('#df-2652575c-7621-41f4-8364-6a5331dd69eb button.colab-df-convert');\n",
              "        buttonEl.style.display =\n",
              "          google.colab.kernel.accessAllowed ? 'block' : 'none';\n",
              "\n",
              "        async function convertToInteractive(key) {\n",
              "          const element = document.querySelector('#df-2652575c-7621-41f4-8364-6a5331dd69eb');\n",
              "          const dataTable =\n",
              "            await google.colab.kernel.invokeFunction('convertToInteractive',\n",
              "                                                     [key], {});\n",
              "          if (!dataTable) return;\n",
              "\n",
              "          const docLinkHtml = 'Like what you see? Visit the ' +\n",
              "            '<a target=\"_blank\" href=https://colab.research.google.com/notebooks/data_table.ipynb>data table notebook</a>'\n",
              "            + ' to learn more about interactive tables.';\n",
              "          element.innerHTML = '';\n",
              "          dataTable['output_type'] = 'display_data';\n",
              "          await google.colab.output.renderOutput(dataTable, element);\n",
              "          const docLink = document.createElement('div');\n",
              "          docLink.innerHTML = docLinkHtml;\n",
              "          element.appendChild(docLink);\n",
              "        }\n",
              "      </script>\n",
              "    </div>\n",
              "  </div>\n",
              "  "
            ],
            "text/plain": [
              "                                                      URL Label  \\\n",
              "124765  sjc-login.dotomi.com/commonid/match?rurl=http:...   bad   \n",
              "529937                   mystyleparrucchieri.com/nd2vj1ux   bad   \n",
              "435099    spiritus-temporis.com/filthy-thieving-bastards/  good   \n",
              "346306  goal.com/en-us/news/594/concacaf-champions-lea...  good   \n",
              "439036     stellarcards.com/index.php/products/checklist/  good   \n",
              "\n",
              "                                           text_tokenized  \n",
              "124765  [sjc, login, dotomi, com, commonid, match, rur...  \n",
              "529937             [mystyleparrucchieri, com, nd, vj, ux]  \n",
              "435099  [spiritus, temporis, com, filthy, thieving, ba...  \n",
              "346306  [goal, com, en, us, news, concacaf, champions,...  \n",
              "439036  [stellarcards, com, index, php, products, chec...  "
            ]
          },
          "execution_count": 22,
          "metadata": {},
          "output_type": "execute_result"
        }
      ],
      "source": [
        "phish_data.sample(5)"
      ]
    },
    {
      "cell_type": "code",
      "execution_count": null,
      "metadata": {
        "id": "mukhWVvLnzsK"
      },
      "outputs": [],
      "source": [
        "stemmer = SnowballStemmer(\"english\") # choose a language"
      ]
    },
    {
      "cell_type": "code",
      "execution_count": null,
      "metadata": {
        "colab": {
          "base_uri": "https://localhost:8080/"
        },
        "id": "rYUSiwbPn1nV",
        "outputId": "ea450d06-f460-4e36-df5d-8eaa3669172a"
      },
      "outputs": [
        {
          "name": "stdout",
          "output_type": "stream",
          "text": [
            "Getting words stemmed ...\n",
            "Time taken 66.25026754099997 sec\n"
          ]
        }
      ],
      "source": [
        "print('Getting words stemmed ...')\n",
        "t0= time.perf_counter()\n",
        "phish_data['text_stemmed'] = phish_data['text_tokenized'].map(lambda l: [stemmer.stem(word) for word in l])\n",
        "t1= time.perf_counter() - t0\n",
        "print('Time taken',t1 ,'sec')"
      ]
    },
    {
      "cell_type": "code",
      "execution_count": null,
      "metadata": {
        "colab": {
          "base_uri": "https://localhost:8080/",
          "height": 206
        },
        "id": "hx6nBxjxoO7v",
        "outputId": "77812d52-b403-452e-9384-c5b44a394f51"
      },
      "outputs": [
        {
          "data": {
            "text/html": [
              "\n",
              "  <div id=\"df-d1ff567a-f39f-4fdc-a435-642738c5ceb0\">\n",
              "    <div class=\"colab-df-container\">\n",
              "      <div>\n",
              "<style scoped>\n",
              "    .dataframe tbody tr th:only-of-type {\n",
              "        vertical-align: middle;\n",
              "    }\n",
              "\n",
              "    .dataframe tbody tr th {\n",
              "        vertical-align: top;\n",
              "    }\n",
              "\n",
              "    .dataframe thead th {\n",
              "        text-align: right;\n",
              "    }\n",
              "</style>\n",
              "<table border=\"1\" class=\"dataframe\">\n",
              "  <thead>\n",
              "    <tr style=\"text-align: right;\">\n",
              "      <th></th>\n",
              "      <th>URL</th>\n",
              "      <th>Label</th>\n",
              "      <th>text_tokenized</th>\n",
              "      <th>text_stemmed</th>\n",
              "    </tr>\n",
              "  </thead>\n",
              "  <tbody>\n",
              "    <tr>\n",
              "      <th>467136</th>\n",
              "      <td>wstickets.com/tennis/match/Rogers_AT&amp;T_Cup_Ten...</td>\n",
              "      <td>good</td>\n",
              "      <td>[wstickets, com, tennis, match, Rogers, AT, T,...</td>\n",
              "      <td>[wsticket, com, tenni, match, roger, at, t, cu...</td>\n",
              "    </tr>\n",
              "    <tr>\n",
              "      <th>461639</th>\n",
              "      <td>warsaw-rcchamber.com/</td>\n",
              "      <td>good</td>\n",
              "      <td>[warsaw, rcchamber, com]</td>\n",
              "      <td>[warsaw, rcchamber, com]</td>\n",
              "    </tr>\n",
              "    <tr>\n",
              "      <th>313513</th>\n",
              "      <td>delcotimes.com/articles/2010/09/12/news/doc4c8...</td>\n",
              "      <td>good</td>\n",
              "      <td>[delcotimes, com, articles, news, doc, c, c, f...</td>\n",
              "      <td>[delcotim, com, articl, news, doc, c, c, f, fa...</td>\n",
              "    </tr>\n",
              "    <tr>\n",
              "      <th>54094</th>\n",
              "      <td>www.sec.gov/investor/pubs/begininvest.htm</td>\n",
              "      <td>good</td>\n",
              "      <td>[www, sec, gov, investor, pubs, begininvest, htm]</td>\n",
              "      <td>[www, sec, gov, investor, pub, begininvest, htm]</td>\n",
              "    </tr>\n",
              "    <tr>\n",
              "      <th>353660</th>\n",
              "      <td>homefinder.com/CA/Burbank/</td>\n",
              "      <td>good</td>\n",
              "      <td>[homefinder, com, CA, Burbank]</td>\n",
              "      <td>[homefind, com, ca, burbank]</td>\n",
              "    </tr>\n",
              "  </tbody>\n",
              "</table>\n",
              "</div>\n",
              "      <button class=\"colab-df-convert\" onclick=\"convertToInteractive('df-d1ff567a-f39f-4fdc-a435-642738c5ceb0')\"\n",
              "              title=\"Convert this dataframe to an interactive table.\"\n",
              "              style=\"display:none;\">\n",
              "        \n",
              "  <svg xmlns=\"http://www.w3.org/2000/svg\" height=\"24px\"viewBox=\"0 0 24 24\"\n",
              "       width=\"24px\">\n",
              "    <path d=\"M0 0h24v24H0V0z\" fill=\"none\"/>\n",
              "    <path d=\"M18.56 5.44l.94 2.06.94-2.06 2.06-.94-2.06-.94-.94-2.06-.94 2.06-2.06.94zm-11 1L8.5 8.5l.94-2.06 2.06-.94-2.06-.94L8.5 2.5l-.94 2.06-2.06.94zm10 10l.94 2.06.94-2.06 2.06-.94-2.06-.94-.94-2.06-.94 2.06-2.06.94z\"/><path d=\"M17.41 7.96l-1.37-1.37c-.4-.4-.92-.59-1.43-.59-.52 0-1.04.2-1.43.59L10.3 9.45l-7.72 7.72c-.78.78-.78 2.05 0 2.83L4 21.41c.39.39.9.59 1.41.59.51 0 1.02-.2 1.41-.59l7.78-7.78 2.81-2.81c.8-.78.8-2.07 0-2.86zM5.41 20L4 18.59l7.72-7.72 1.47 1.35L5.41 20z\"/>\n",
              "  </svg>\n",
              "      </button>\n",
              "      \n",
              "  <style>\n",
              "    .colab-df-container {\n",
              "      display:flex;\n",
              "      flex-wrap:wrap;\n",
              "      gap: 12px;\n",
              "    }\n",
              "\n",
              "    .colab-df-convert {\n",
              "      background-color: #E8F0FE;\n",
              "      border: none;\n",
              "      border-radius: 50%;\n",
              "      cursor: pointer;\n",
              "      display: none;\n",
              "      fill: #1967D2;\n",
              "      height: 32px;\n",
              "      padding: 0 0 0 0;\n",
              "      width: 32px;\n",
              "    }\n",
              "\n",
              "    .colab-df-convert:hover {\n",
              "      background-color: #E2EBFA;\n",
              "      box-shadow: 0px 1px 2px rgba(60, 64, 67, 0.3), 0px 1px 3px 1px rgba(60, 64, 67, 0.15);\n",
              "      fill: #174EA6;\n",
              "    }\n",
              "\n",
              "    [theme=dark] .colab-df-convert {\n",
              "      background-color: #3B4455;\n",
              "      fill: #D2E3FC;\n",
              "    }\n",
              "\n",
              "    [theme=dark] .colab-df-convert:hover {\n",
              "      background-color: #434B5C;\n",
              "      box-shadow: 0px 1px 3px 1px rgba(0, 0, 0, 0.15);\n",
              "      filter: drop-shadow(0px 1px 2px rgba(0, 0, 0, 0.3));\n",
              "      fill: #FFFFFF;\n",
              "    }\n",
              "  </style>\n",
              "\n",
              "      <script>\n",
              "        const buttonEl =\n",
              "          document.querySelector('#df-d1ff567a-f39f-4fdc-a435-642738c5ceb0 button.colab-df-convert');\n",
              "        buttonEl.style.display =\n",
              "          google.colab.kernel.accessAllowed ? 'block' : 'none';\n",
              "\n",
              "        async function convertToInteractive(key) {\n",
              "          const element = document.querySelector('#df-d1ff567a-f39f-4fdc-a435-642738c5ceb0');\n",
              "          const dataTable =\n",
              "            await google.colab.kernel.invokeFunction('convertToInteractive',\n",
              "                                                     [key], {});\n",
              "          if (!dataTable) return;\n",
              "\n",
              "          const docLinkHtml = 'Like what you see? Visit the ' +\n",
              "            '<a target=\"_blank\" href=https://colab.research.google.com/notebooks/data_table.ipynb>data table notebook</a>'\n",
              "            + ' to learn more about interactive tables.';\n",
              "          element.innerHTML = '';\n",
              "          dataTable['output_type'] = 'display_data';\n",
              "          await google.colab.output.renderOutput(dataTable, element);\n",
              "          const docLink = document.createElement('div');\n",
              "          docLink.innerHTML = docLinkHtml;\n",
              "          element.appendChild(docLink);\n",
              "        }\n",
              "      </script>\n",
              "    </div>\n",
              "  </div>\n",
              "  "
            ],
            "text/plain": [
              "                                                      URL Label  \\\n",
              "467136  wstickets.com/tennis/match/Rogers_AT&T_Cup_Ten...  good   \n",
              "461639                              warsaw-rcchamber.com/  good   \n",
              "313513  delcotimes.com/articles/2010/09/12/news/doc4c8...  good   \n",
              "54094           www.sec.gov/investor/pubs/begininvest.htm  good   \n",
              "353660                         homefinder.com/CA/Burbank/  good   \n",
              "\n",
              "                                           text_tokenized  \\\n",
              "467136  [wstickets, com, tennis, match, Rogers, AT, T,...   \n",
              "461639                           [warsaw, rcchamber, com]   \n",
              "313513  [delcotimes, com, articles, news, doc, c, c, f...   \n",
              "54094   [www, sec, gov, investor, pubs, begininvest, htm]   \n",
              "353660                     [homefinder, com, CA, Burbank]   \n",
              "\n",
              "                                             text_stemmed  \n",
              "467136  [wsticket, com, tenni, match, roger, at, t, cu...  \n",
              "461639                           [warsaw, rcchamber, com]  \n",
              "313513  [delcotim, com, articl, news, doc, c, c, f, fa...  \n",
              "54094    [www, sec, gov, investor, pub, begininvest, htm]  \n",
              "353660                       [homefind, com, ca, burbank]  "
            ]
          },
          "execution_count": 25,
          "metadata": {},
          "output_type": "execute_result"
        }
      ],
      "source": [
        "phish_data.sample(5)"
      ]
    },
    {
      "cell_type": "code",
      "execution_count": null,
      "metadata": {
        "colab": {
          "base_uri": "https://localhost:8080/"
        },
        "id": "dmfZbTMZoRPI",
        "outputId": "9caf89b5-96c9-4488-85b4-f02c4159aa63"
      },
      "outputs": [
        {
          "name": "stdout",
          "output_type": "stream",
          "text": [
            "Getting joiningwords ...\n",
            "Time taken 0.23191196999999875 sec\n"
          ]
        }
      ],
      "source": [
        "print('Getting joiningwords ...')\n",
        "t0= time.perf_counter()\n",
        "phish_data['text_sent'] = phish_data['text_stemmed'].map(lambda l: ' '.join(l))\n",
        "t1= time.perf_counter() - t0\n",
        "print('Time taken',t1 ,'sec')"
      ]
    },
    {
      "cell_type": "code",
      "execution_count": null,
      "metadata": {
        "colab": {
          "base_uri": "https://localhost:8080/",
          "height": 302
        },
        "id": "VS-V9uJPoTMo",
        "outputId": "b5612daf-9746-4f4c-d6dd-241d34ddf6be"
      },
      "outputs": [
        {
          "data": {
            "text/html": [
              "\n",
              "  <div id=\"df-94a4b5b7-45df-4fb9-bccc-4a2144759e50\">\n",
              "    <div class=\"colab-df-container\">\n",
              "      <div>\n",
              "<style scoped>\n",
              "    .dataframe tbody tr th:only-of-type {\n",
              "        vertical-align: middle;\n",
              "    }\n",
              "\n",
              "    .dataframe tbody tr th {\n",
              "        vertical-align: top;\n",
              "    }\n",
              "\n",
              "    .dataframe thead th {\n",
              "        text-align: right;\n",
              "    }\n",
              "</style>\n",
              "<table border=\"1\" class=\"dataframe\">\n",
              "  <thead>\n",
              "    <tr style=\"text-align: right;\">\n",
              "      <th></th>\n",
              "      <th>URL</th>\n",
              "      <th>Label</th>\n",
              "      <th>text_tokenized</th>\n",
              "      <th>text_stemmed</th>\n",
              "      <th>text_sent</th>\n",
              "    </tr>\n",
              "  </thead>\n",
              "  <tbody>\n",
              "    <tr>\n",
              "      <th>200353</th>\n",
              "      <td>infocraft.asia/</td>\n",
              "      <td>good</td>\n",
              "      <td>[infocraft, asia]</td>\n",
              "      <td>[infocraft, asia]</td>\n",
              "      <td>infocraft asia</td>\n",
              "    </tr>\n",
              "    <tr>\n",
              "      <th>434742</th>\n",
              "      <td>spankwire.com/Angela-Summers-Tianna/video175846/</td>\n",
              "      <td>good</td>\n",
              "      <td>[spankwire, com, Angela, Summers, Tianna, video]</td>\n",
              "      <td>[spankwir, com, angela, summer, tianna, video]</td>\n",
              "      <td>spankwir com angela summer tianna video</td>\n",
              "    </tr>\n",
              "    <tr>\n",
              "      <th>126774</th>\n",
              "      <td>707eats.com/media/system/swf/PORTAL/bradesco24...</td>\n",
              "      <td>bad</td>\n",
              "      <td>[eats, com, media, system, swf, PORTAL, brades...</td>\n",
              "      <td>[eat, com, media, system, swf, portal, bradesc...</td>\n",
              "      <td>eat com media system swf portal bradesco hrs s...</td>\n",
              "    </tr>\n",
              "    <tr>\n",
              "      <th>45954</th>\n",
              "      <td>lawyerspiprogram.com/images/www.paypal.com/ind...</td>\n",
              "      <td>bad</td>\n",
              "      <td>[lawyerspiprogram, com, images, www, paypal, c...</td>\n",
              "      <td>[lawyerspiprogram, com, imag, www, paypal, com...</td>\n",
              "      <td>lawyerspiprogram com imag www paypal com index...</td>\n",
              "    </tr>\n",
              "    <tr>\n",
              "      <th>126665</th>\n",
              "      <td>boinobrecarnes.com.br/wp-admin/network/</td>\n",
              "      <td>bad</td>\n",
              "      <td>[boinobrecarnes, com, br, wp, admin, network]</td>\n",
              "      <td>[boinobrecarn, com, br, wp, admin, network]</td>\n",
              "      <td>boinobrecarn com br wp admin network</td>\n",
              "    </tr>\n",
              "  </tbody>\n",
              "</table>\n",
              "</div>\n",
              "      <button class=\"colab-df-convert\" onclick=\"convertToInteractive('df-94a4b5b7-45df-4fb9-bccc-4a2144759e50')\"\n",
              "              title=\"Convert this dataframe to an interactive table.\"\n",
              "              style=\"display:none;\">\n",
              "        \n",
              "  <svg xmlns=\"http://www.w3.org/2000/svg\" height=\"24px\"viewBox=\"0 0 24 24\"\n",
              "       width=\"24px\">\n",
              "    <path d=\"M0 0h24v24H0V0z\" fill=\"none\"/>\n",
              "    <path d=\"M18.56 5.44l.94 2.06.94-2.06 2.06-.94-2.06-.94-.94-2.06-.94 2.06-2.06.94zm-11 1L8.5 8.5l.94-2.06 2.06-.94-2.06-.94L8.5 2.5l-.94 2.06-2.06.94zm10 10l.94 2.06.94-2.06 2.06-.94-2.06-.94-.94-2.06-.94 2.06-2.06.94z\"/><path d=\"M17.41 7.96l-1.37-1.37c-.4-.4-.92-.59-1.43-.59-.52 0-1.04.2-1.43.59L10.3 9.45l-7.72 7.72c-.78.78-.78 2.05 0 2.83L4 21.41c.39.39.9.59 1.41.59.51 0 1.02-.2 1.41-.59l7.78-7.78 2.81-2.81c.8-.78.8-2.07 0-2.86zM5.41 20L4 18.59l7.72-7.72 1.47 1.35L5.41 20z\"/>\n",
              "  </svg>\n",
              "      </button>\n",
              "      \n",
              "  <style>\n",
              "    .colab-df-container {\n",
              "      display:flex;\n",
              "      flex-wrap:wrap;\n",
              "      gap: 12px;\n",
              "    }\n",
              "\n",
              "    .colab-df-convert {\n",
              "      background-color: #E8F0FE;\n",
              "      border: none;\n",
              "      border-radius: 50%;\n",
              "      cursor: pointer;\n",
              "      display: none;\n",
              "      fill: #1967D2;\n",
              "      height: 32px;\n",
              "      padding: 0 0 0 0;\n",
              "      width: 32px;\n",
              "    }\n",
              "\n",
              "    .colab-df-convert:hover {\n",
              "      background-color: #E2EBFA;\n",
              "      box-shadow: 0px 1px 2px rgba(60, 64, 67, 0.3), 0px 1px 3px 1px rgba(60, 64, 67, 0.15);\n",
              "      fill: #174EA6;\n",
              "    }\n",
              "\n",
              "    [theme=dark] .colab-df-convert {\n",
              "      background-color: #3B4455;\n",
              "      fill: #D2E3FC;\n",
              "    }\n",
              "\n",
              "    [theme=dark] .colab-df-convert:hover {\n",
              "      background-color: #434B5C;\n",
              "      box-shadow: 0px 1px 3px 1px rgba(0, 0, 0, 0.15);\n",
              "      filter: drop-shadow(0px 1px 2px rgba(0, 0, 0, 0.3));\n",
              "      fill: #FFFFFF;\n",
              "    }\n",
              "  </style>\n",
              "\n",
              "      <script>\n",
              "        const buttonEl =\n",
              "          document.querySelector('#df-94a4b5b7-45df-4fb9-bccc-4a2144759e50 button.colab-df-convert');\n",
              "        buttonEl.style.display =\n",
              "          google.colab.kernel.accessAllowed ? 'block' : 'none';\n",
              "\n",
              "        async function convertToInteractive(key) {\n",
              "          const element = document.querySelector('#df-94a4b5b7-45df-4fb9-bccc-4a2144759e50');\n",
              "          const dataTable =\n",
              "            await google.colab.kernel.invokeFunction('convertToInteractive',\n",
              "                                                     [key], {});\n",
              "          if (!dataTable) return;\n",
              "\n",
              "          const docLinkHtml = 'Like what you see? Visit the ' +\n",
              "            '<a target=\"_blank\" href=https://colab.research.google.com/notebooks/data_table.ipynb>data table notebook</a>'\n",
              "            + ' to learn more about interactive tables.';\n",
              "          element.innerHTML = '';\n",
              "          dataTable['output_type'] = 'display_data';\n",
              "          await google.colab.output.renderOutput(dataTable, element);\n",
              "          const docLink = document.createElement('div');\n",
              "          docLink.innerHTML = docLinkHtml;\n",
              "          element.appendChild(docLink);\n",
              "        }\n",
              "      </script>\n",
              "    </div>\n",
              "  </div>\n",
              "  "
            ],
            "text/plain": [
              "                                                      URL Label  \\\n",
              "200353                                    infocraft.asia/  good   \n",
              "434742   spankwire.com/Angela-Summers-Tianna/video175846/  good   \n",
              "126774  707eats.com/media/system/swf/PORTAL/bradesco24...   bad   \n",
              "45954   lawyerspiprogram.com/images/www.paypal.com/ind...   bad   \n",
              "126665            boinobrecarnes.com.br/wp-admin/network/   bad   \n",
              "\n",
              "                                           text_tokenized  \\\n",
              "200353                                  [infocraft, asia]   \n",
              "434742   [spankwire, com, Angela, Summers, Tianna, video]   \n",
              "126774  [eats, com, media, system, swf, PORTAL, brades...   \n",
              "45954   [lawyerspiprogram, com, images, www, paypal, c...   \n",
              "126665      [boinobrecarnes, com, br, wp, admin, network]   \n",
              "\n",
              "                                             text_stemmed  \\\n",
              "200353                                  [infocraft, asia]   \n",
              "434742     [spankwir, com, angela, summer, tianna, video]   \n",
              "126774  [eat, com, media, system, swf, portal, bradesc...   \n",
              "45954   [lawyerspiprogram, com, imag, www, paypal, com...   \n",
              "126665        [boinobrecarn, com, br, wp, admin, network]   \n",
              "\n",
              "                                                text_sent  \n",
              "200353                                     infocraft asia  \n",
              "434742            spankwir com angela summer tianna video  \n",
              "126774  eat com media system swf portal bradesco hrs s...  \n",
              "45954   lawyerspiprogram com imag www paypal com index...  \n",
              "126665               boinobrecarn com br wp admin network  "
            ]
          },
          "execution_count": 27,
          "metadata": {},
          "output_type": "execute_result"
        }
      ],
      "source": [
        "phish_data.sample(5)"
      ]
    },
    {
      "cell_type": "code",
      "execution_count": null,
      "metadata": {
        "id": "Qk8YFlT9oU6O"
      },
      "outputs": [],
      "source": [
        "#sliceing classes\n",
        "bad_sites = phish_data[phish_data.Label == 'bad']\n",
        "good_sites = phish_data[phish_data.Label == 'good']"
      ]
    },
    {
      "cell_type": "code",
      "execution_count": null,
      "metadata": {
        "colab": {
          "base_uri": "https://localhost:8080/",
          "height": 250
        },
        "id": "vlJ1uiHRoWZO",
        "outputId": "e52cc273-f3a6-478b-e647-966e88bd55ac"
      },
      "outputs": [
        {
          "data": {
            "text/html": [
              "\n",
              "  <div id=\"df-d6992f85-cea4-486b-a252-f461f53f9f48\">\n",
              "    <div class=\"colab-df-container\">\n",
              "      <div>\n",
              "<style scoped>\n",
              "    .dataframe tbody tr th:only-of-type {\n",
              "        vertical-align: middle;\n",
              "    }\n",
              "\n",
              "    .dataframe tbody tr th {\n",
              "        vertical-align: top;\n",
              "    }\n",
              "\n",
              "    .dataframe thead th {\n",
              "        text-align: right;\n",
              "    }\n",
              "</style>\n",
              "<table border=\"1\" class=\"dataframe\">\n",
              "  <thead>\n",
              "    <tr style=\"text-align: right;\">\n",
              "      <th></th>\n",
              "      <th>URL</th>\n",
              "      <th>Label</th>\n",
              "      <th>text_tokenized</th>\n",
              "      <th>text_stemmed</th>\n",
              "      <th>text_sent</th>\n",
              "    </tr>\n",
              "  </thead>\n",
              "  <tbody>\n",
              "    <tr>\n",
              "      <th>0</th>\n",
              "      <td>nobell.it/70ffb52d079109dca5664cce6f317373782/...</td>\n",
              "      <td>bad</td>\n",
              "      <td>[nobell, it, ffb, d, dca, cce, f, login, SkyPe...</td>\n",
              "      <td>[nobel, it, ffb, d, dca, cce, f, login, skype,...</td>\n",
              "      <td>nobel it ffb d dca cce f login skype com en cg...</td>\n",
              "    </tr>\n",
              "    <tr>\n",
              "      <th>1</th>\n",
              "      <td>www.dghjdgf.com/paypal.co.uk/cycgi-bin/webscrc...</td>\n",
              "      <td>bad</td>\n",
              "      <td>[www, dghjdgf, com, paypal, co, uk, cycgi, bin...</td>\n",
              "      <td>[www, dghjdgf, com, paypal, co, uk, cycgi, bin...</td>\n",
              "      <td>www dghjdgf com paypal co uk cycgi bin webscrc...</td>\n",
              "    </tr>\n",
              "    <tr>\n",
              "      <th>2</th>\n",
              "      <td>serviciosbys.com/paypal.cgi.bin.get-into.herf....</td>\n",
              "      <td>bad</td>\n",
              "      <td>[serviciosbys, com, paypal, cgi, bin, get, int...</td>\n",
              "      <td>[serviciosbi, com, paypal, cgi, bin, get, into...</td>\n",
              "      <td>serviciosbi com paypal cgi bin get into herf s...</td>\n",
              "    </tr>\n",
              "    <tr>\n",
              "      <th>3</th>\n",
              "      <td>mail.printakid.com/www.online.americanexpress....</td>\n",
              "      <td>bad</td>\n",
              "      <td>[mail, printakid, com, www, online, americanex...</td>\n",
              "      <td>[mail, printakid, com, www, onlin, americanexp...</td>\n",
              "      <td>mail printakid com www onlin americanexpress c...</td>\n",
              "    </tr>\n",
              "    <tr>\n",
              "      <th>4</th>\n",
              "      <td>thewhiskeydregs.com/wp-content/themes/widescre...</td>\n",
              "      <td>bad</td>\n",
              "      <td>[thewhiskeydregs, com, wp, content, themes, wi...</td>\n",
              "      <td>[thewhiskeydreg, com, wp, content, theme, wide...</td>\n",
              "      <td>thewhiskeydreg com wp content theme widescreen...</td>\n",
              "    </tr>\n",
              "  </tbody>\n",
              "</table>\n",
              "</div>\n",
              "      <button class=\"colab-df-convert\" onclick=\"convertToInteractive('df-d6992f85-cea4-486b-a252-f461f53f9f48')\"\n",
              "              title=\"Convert this dataframe to an interactive table.\"\n",
              "              style=\"display:none;\">\n",
              "        \n",
              "  <svg xmlns=\"http://www.w3.org/2000/svg\" height=\"24px\"viewBox=\"0 0 24 24\"\n",
              "       width=\"24px\">\n",
              "    <path d=\"M0 0h24v24H0V0z\" fill=\"none\"/>\n",
              "    <path d=\"M18.56 5.44l.94 2.06.94-2.06 2.06-.94-2.06-.94-.94-2.06-.94 2.06-2.06.94zm-11 1L8.5 8.5l.94-2.06 2.06-.94-2.06-.94L8.5 2.5l-.94 2.06-2.06.94zm10 10l.94 2.06.94-2.06 2.06-.94-2.06-.94-.94-2.06-.94 2.06-2.06.94z\"/><path d=\"M17.41 7.96l-1.37-1.37c-.4-.4-.92-.59-1.43-.59-.52 0-1.04.2-1.43.59L10.3 9.45l-7.72 7.72c-.78.78-.78 2.05 0 2.83L4 21.41c.39.39.9.59 1.41.59.51 0 1.02-.2 1.41-.59l7.78-7.78 2.81-2.81c.8-.78.8-2.07 0-2.86zM5.41 20L4 18.59l7.72-7.72 1.47 1.35L5.41 20z\"/>\n",
              "  </svg>\n",
              "      </button>\n",
              "      \n",
              "  <style>\n",
              "    .colab-df-container {\n",
              "      display:flex;\n",
              "      flex-wrap:wrap;\n",
              "      gap: 12px;\n",
              "    }\n",
              "\n",
              "    .colab-df-convert {\n",
              "      background-color: #E8F0FE;\n",
              "      border: none;\n",
              "      border-radius: 50%;\n",
              "      cursor: pointer;\n",
              "      display: none;\n",
              "      fill: #1967D2;\n",
              "      height: 32px;\n",
              "      padding: 0 0 0 0;\n",
              "      width: 32px;\n",
              "    }\n",
              "\n",
              "    .colab-df-convert:hover {\n",
              "      background-color: #E2EBFA;\n",
              "      box-shadow: 0px 1px 2px rgba(60, 64, 67, 0.3), 0px 1px 3px 1px rgba(60, 64, 67, 0.15);\n",
              "      fill: #174EA6;\n",
              "    }\n",
              "\n",
              "    [theme=dark] .colab-df-convert {\n",
              "      background-color: #3B4455;\n",
              "      fill: #D2E3FC;\n",
              "    }\n",
              "\n",
              "    [theme=dark] .colab-df-convert:hover {\n",
              "      background-color: #434B5C;\n",
              "      box-shadow: 0px 1px 3px 1px rgba(0, 0, 0, 0.15);\n",
              "      filter: drop-shadow(0px 1px 2px rgba(0, 0, 0, 0.3));\n",
              "      fill: #FFFFFF;\n",
              "    }\n",
              "  </style>\n",
              "\n",
              "      <script>\n",
              "        const buttonEl =\n",
              "          document.querySelector('#df-d6992f85-cea4-486b-a252-f461f53f9f48 button.colab-df-convert');\n",
              "        buttonEl.style.display =\n",
              "          google.colab.kernel.accessAllowed ? 'block' : 'none';\n",
              "\n",
              "        async function convertToInteractive(key) {\n",
              "          const element = document.querySelector('#df-d6992f85-cea4-486b-a252-f461f53f9f48');\n",
              "          const dataTable =\n",
              "            await google.colab.kernel.invokeFunction('convertToInteractive',\n",
              "                                                     [key], {});\n",
              "          if (!dataTable) return;\n",
              "\n",
              "          const docLinkHtml = 'Like what you see? Visit the ' +\n",
              "            '<a target=\"_blank\" href=https://colab.research.google.com/notebooks/data_table.ipynb>data table notebook</a>'\n",
              "            + ' to learn more about interactive tables.';\n",
              "          element.innerHTML = '';\n",
              "          dataTable['output_type'] = 'display_data';\n",
              "          await google.colab.output.renderOutput(dataTable, element);\n",
              "          const docLink = document.createElement('div');\n",
              "          docLink.innerHTML = docLinkHtml;\n",
              "          element.appendChild(docLink);\n",
              "        }\n",
              "      </script>\n",
              "    </div>\n",
              "  </div>\n",
              "  "
            ],
            "text/plain": [
              "                                                 URL Label  \\\n",
              "0  nobell.it/70ffb52d079109dca5664cce6f317373782/...   bad   \n",
              "1  www.dghjdgf.com/paypal.co.uk/cycgi-bin/webscrc...   bad   \n",
              "2  serviciosbys.com/paypal.cgi.bin.get-into.herf....   bad   \n",
              "3  mail.printakid.com/www.online.americanexpress....   bad   \n",
              "4  thewhiskeydregs.com/wp-content/themes/widescre...   bad   \n",
              "\n",
              "                                      text_tokenized  \\\n",
              "0  [nobell, it, ffb, d, dca, cce, f, login, SkyPe...   \n",
              "1  [www, dghjdgf, com, paypal, co, uk, cycgi, bin...   \n",
              "2  [serviciosbys, com, paypal, cgi, bin, get, int...   \n",
              "3  [mail, printakid, com, www, online, americanex...   \n",
              "4  [thewhiskeydregs, com, wp, content, themes, wi...   \n",
              "\n",
              "                                        text_stemmed  \\\n",
              "0  [nobel, it, ffb, d, dca, cce, f, login, skype,...   \n",
              "1  [www, dghjdgf, com, paypal, co, uk, cycgi, bin...   \n",
              "2  [serviciosbi, com, paypal, cgi, bin, get, into...   \n",
              "3  [mail, printakid, com, www, onlin, americanexp...   \n",
              "4  [thewhiskeydreg, com, wp, content, theme, wide...   \n",
              "\n",
              "                                           text_sent  \n",
              "0  nobel it ffb d dca cce f login skype com en cg...  \n",
              "1  www dghjdgf com paypal co uk cycgi bin webscrc...  \n",
              "2  serviciosbi com paypal cgi bin get into herf s...  \n",
              "3  mail printakid com www onlin americanexpress c...  \n",
              "4  thewhiskeydreg com wp content theme widescreen...  "
            ]
          },
          "execution_count": 29,
          "metadata": {},
          "output_type": "execute_result"
        }
      ],
      "source": [
        "bad_sites.head()"
      ]
    },
    {
      "cell_type": "code",
      "execution_count": null,
      "metadata": {
        "colab": {
          "base_uri": "https://localhost:8080/",
          "height": 302
        },
        "id": "T_v1dhxLoYI6",
        "outputId": "2480cb5f-94f5-4dd3-c815-67cf1e436009"
      },
      "outputs": [
        {
          "data": {
            "text/html": [
              "\n",
              "  <div id=\"df-25b559f1-2d2a-43bf-8f44-bfa57acf516f\">\n",
              "    <div class=\"colab-df-container\">\n",
              "      <div>\n",
              "<style scoped>\n",
              "    .dataframe tbody tr th:only-of-type {\n",
              "        vertical-align: middle;\n",
              "    }\n",
              "\n",
              "    .dataframe tbody tr th {\n",
              "        vertical-align: top;\n",
              "    }\n",
              "\n",
              "    .dataframe thead th {\n",
              "        text-align: right;\n",
              "    }\n",
              "</style>\n",
              "<table border=\"1\" class=\"dataframe\">\n",
              "  <thead>\n",
              "    <tr style=\"text-align: right;\">\n",
              "      <th></th>\n",
              "      <th>URL</th>\n",
              "      <th>Label</th>\n",
              "      <th>text_tokenized</th>\n",
              "      <th>text_stemmed</th>\n",
              "      <th>text_sent</th>\n",
              "    </tr>\n",
              "  </thead>\n",
              "  <tbody>\n",
              "    <tr>\n",
              "      <th>18231</th>\n",
              "      <td>esxcc.com/js/index.htm?us.battle.net/noghn/en/...</td>\n",
              "      <td>good</td>\n",
              "      <td>[esxcc, com, js, index, htm, us, battle, net, ...</td>\n",
              "      <td>[esxcc, com, js, index, htm, us, battl, net, n...</td>\n",
              "      <td>esxcc com js index htm us battl net noghn en r...</td>\n",
              "    </tr>\n",
              "    <tr>\n",
              "      <th>18232</th>\n",
              "      <td>www\u000eeira¯&amp;nvinip¿ncH¯wVö%ÆåyDaHðû/ÏyEùu\u0003Ë\\nÓ\u00176...</td>\n",
              "      <td>good</td>\n",
              "      <td>[www, eira, nvinip, ncH, wV, yDaH, yE, u, rT, ...</td>\n",
              "      <td>[www, eira, nvinip, nch, wv, ydah, ye, u, rt, ...</td>\n",
              "      <td>www eira nvinip nch wv ydah ye u rt u g m i xz...</td>\n",
              "    </tr>\n",
              "    <tr>\n",
              "      <th>18233</th>\n",
              "      <td>'www.institutocgr.coo/web/media/syqvem/dk-\u000fóij...</td>\n",
              "      <td>good</td>\n",
              "      <td>[www, institutocgr, coo, web, media, syqvem, d...</td>\n",
              "      <td>[www, institutocgr, coo, web, media, syqvem, d...</td>\n",
              "      <td>www institutocgr coo web media syqvem dk ij r ...</td>\n",
              "    </tr>\n",
              "    <tr>\n",
              "      <th>18234</th>\n",
              "      <td>\u0011\u0018Yìê\fkoãÕ»Î§DéÎ\u0002l½ñ¡ââqtò¸/à; Í</td>\n",
              "      <td>good</td>\n",
              "      <td>[Y, ko, D, l, qt]</td>\n",
              "      <td>[y, ko, d, l, qt]</td>\n",
              "      <td>y ko d l qt</td>\n",
              "    </tr>\n",
              "    <tr>\n",
              "      <th>18236</th>\n",
              "      <td>ruta89fm.com/images/AS@Vies/1i75cf7b16vc&lt;F\u0015d16...</td>\n",
              "      <td>good</td>\n",
              "      <td>[ruta, fm, com, images, AS, Vies, i, cf, b, vc...</td>\n",
              "      <td>[ruta, fm, com, imag, as, vie, i, cf, b, vc, f...</td>\n",
              "      <td>ruta fm com imag as vie i cf b vc f d b g sd v...</td>\n",
              "    </tr>\n",
              "  </tbody>\n",
              "</table>\n",
              "</div>\n",
              "      <button class=\"colab-df-convert\" onclick=\"convertToInteractive('df-25b559f1-2d2a-43bf-8f44-bfa57acf516f')\"\n",
              "              title=\"Convert this dataframe to an interactive table.\"\n",
              "              style=\"display:none;\">\n",
              "        \n",
              "  <svg xmlns=\"http://www.w3.org/2000/svg\" height=\"24px\"viewBox=\"0 0 24 24\"\n",
              "       width=\"24px\">\n",
              "    <path d=\"M0 0h24v24H0V0z\" fill=\"none\"/>\n",
              "    <path d=\"M18.56 5.44l.94 2.06.94-2.06 2.06-.94-2.06-.94-.94-2.06-.94 2.06-2.06.94zm-11 1L8.5 8.5l.94-2.06 2.06-.94-2.06-.94L8.5 2.5l-.94 2.06-2.06.94zm10 10l.94 2.06.94-2.06 2.06-.94-2.06-.94-.94-2.06-.94 2.06-2.06.94z\"/><path d=\"M17.41 7.96l-1.37-1.37c-.4-.4-.92-.59-1.43-.59-.52 0-1.04.2-1.43.59L10.3 9.45l-7.72 7.72c-.78.78-.78 2.05 0 2.83L4 21.41c.39.39.9.59 1.41.59.51 0 1.02-.2 1.41-.59l7.78-7.78 2.81-2.81c.8-.78.8-2.07 0-2.86zM5.41 20L4 18.59l7.72-7.72 1.47 1.35L5.41 20z\"/>\n",
              "  </svg>\n",
              "      </button>\n",
              "      \n",
              "  <style>\n",
              "    .colab-df-container {\n",
              "      display:flex;\n",
              "      flex-wrap:wrap;\n",
              "      gap: 12px;\n",
              "    }\n",
              "\n",
              "    .colab-df-convert {\n",
              "      background-color: #E8F0FE;\n",
              "      border: none;\n",
              "      border-radius: 50%;\n",
              "      cursor: pointer;\n",
              "      display: none;\n",
              "      fill: #1967D2;\n",
              "      height: 32px;\n",
              "      padding: 0 0 0 0;\n",
              "      width: 32px;\n",
              "    }\n",
              "\n",
              "    .colab-df-convert:hover {\n",
              "      background-color: #E2EBFA;\n",
              "      box-shadow: 0px 1px 2px rgba(60, 64, 67, 0.3), 0px 1px 3px 1px rgba(60, 64, 67, 0.15);\n",
              "      fill: #174EA6;\n",
              "    }\n",
              "\n",
              "    [theme=dark] .colab-df-convert {\n",
              "      background-color: #3B4455;\n",
              "      fill: #D2E3FC;\n",
              "    }\n",
              "\n",
              "    [theme=dark] .colab-df-convert:hover {\n",
              "      background-color: #434B5C;\n",
              "      box-shadow: 0px 1px 3px 1px rgba(0, 0, 0, 0.15);\n",
              "      filter: drop-shadow(0px 1px 2px rgba(0, 0, 0, 0.3));\n",
              "      fill: #FFFFFF;\n",
              "    }\n",
              "  </style>\n",
              "\n",
              "      <script>\n",
              "        const buttonEl =\n",
              "          document.querySelector('#df-25b559f1-2d2a-43bf-8f44-bfa57acf516f button.colab-df-convert');\n",
              "        buttonEl.style.display =\n",
              "          google.colab.kernel.accessAllowed ? 'block' : 'none';\n",
              "\n",
              "        async function convertToInteractive(key) {\n",
              "          const element = document.querySelector('#df-25b559f1-2d2a-43bf-8f44-bfa57acf516f');\n",
              "          const dataTable =\n",
              "            await google.colab.kernel.invokeFunction('convertToInteractive',\n",
              "                                                     [key], {});\n",
              "          if (!dataTable) return;\n",
              "\n",
              "          const docLinkHtml = 'Like what you see? Visit the ' +\n",
              "            '<a target=\"_blank\" href=https://colab.research.google.com/notebooks/data_table.ipynb>data table notebook</a>'\n",
              "            + ' to learn more about interactive tables.';\n",
              "          element.innerHTML = '';\n",
              "          dataTable['output_type'] = 'display_data';\n",
              "          await google.colab.output.renderOutput(dataTable, element);\n",
              "          const docLink = document.createElement('div');\n",
              "          docLink.innerHTML = docLinkHtml;\n",
              "          element.appendChild(docLink);\n",
              "        }\n",
              "      </script>\n",
              "    </div>\n",
              "  </div>\n",
              "  "
            ],
            "text/plain": [
              "                                                     URL Label  \\\n",
              "18231  esxcc.com/js/index.htm?us.battle.net/noghn/en/...  good   \n",
              "18232  www\u000eeira¯&nvinip¿ncH¯wVö%ÆåyDaHðû/ÏyEùu\u0003Ë\\nÓ\u00176...  good   \n",
              "18233  'www.institutocgr.coo/web/media/syqvem/dk-\u000fóij...  good   \n",
              "18234                  \u0011\u0018Yìê\n",
              "koãÕ»Î§DéÎ\u0002l½ñ¡ââqtò¸/à; Í  good   \n",
              "18236  ruta89fm.com/images/AS@Vies/1i75cf7b16vc<F\u0015d16...  good   \n",
              "\n",
              "                                          text_tokenized  \\\n",
              "18231  [esxcc, com, js, index, htm, us, battle, net, ...   \n",
              "18232  [www, eira, nvinip, ncH, wV, yDaH, yE, u, rT, ...   \n",
              "18233  [www, institutocgr, coo, web, media, syqvem, d...   \n",
              "18234                                  [Y, ko, D, l, qt]   \n",
              "18236  [ruta, fm, com, images, AS, Vies, i, cf, b, vc...   \n",
              "\n",
              "                                            text_stemmed  \\\n",
              "18231  [esxcc, com, js, index, htm, us, battl, net, n...   \n",
              "18232  [www, eira, nvinip, nch, wv, ydah, ye, u, rt, ...   \n",
              "18233  [www, institutocgr, coo, web, media, syqvem, d...   \n",
              "18234                                  [y, ko, d, l, qt]   \n",
              "18236  [ruta, fm, com, imag, as, vie, i, cf, b, vc, f...   \n",
              "\n",
              "                                               text_sent  \n",
              "18231  esxcc com js index htm us battl net noghn en r...  \n",
              "18232  www eira nvinip nch wv ydah ye u rt u g m i xz...  \n",
              "18233  www institutocgr coo web media syqvem dk ij r ...  \n",
              "18234                                        y ko d l qt  \n",
              "18236  ruta fm com imag as vie i cf b vc f d b g sd v...  "
            ]
          },
          "execution_count": 30,
          "metadata": {},
          "output_type": "execute_result"
        }
      ],
      "source": [
        "good_sites.head()"
      ]
    },
    {
      "cell_type": "code",
      "execution_count": null,
      "metadata": {
        "id": "HL5HMrqmt-f4"
      },
      "outputs": [],
      "source": [
        "from nltk.corpus import stopwords\n",
        "from wordcloud import WordCloud "
      ]
    },
    {
      "cell_type": "code",
      "execution_count": null,
      "metadata": {
        "id": "J8LxixSZoayP"
      },
      "outputs": [],
      "source": [
        "from wordcloud.wordcloud import STOPWORDS\n",
        "def plot_wordcloud(text, mask=None, max_words=400, max_font_size=120, figure_size=(24.0,16.0), \n",
        "                   title = None, title_size=40, image_color=False):\n",
        "    stopwords = set(STOPWORDS)\n",
        "    more_stopwords = {'com','http'}\n",
        "    stopwords = stopwords.union(more_stopwords)\n",
        "\n",
        "    wordcloud = WordCloud(background_color='white',\n",
        "                    stopwords = stopwords,\n",
        "                    max_words = max_words,\n",
        "                    max_font_size = max_font_size, \n",
        "                    random_state = 42,\n",
        "                    mask = mask)\n",
        "    wordcloud.generate(text)\n",
        "    \n",
        "    plt.figure(figsize=figure_size)\n",
        "    if image_color:\n",
        "        image_colors = ImageColorGenerator(mask);\n",
        "        plt.imshow(wordcloud.recolor(color_func=image_colors), interpolation=\"bilinear\");\n",
        "        plt.title(title, fontdict={'size': title_size,  \n",
        "                                  'verticalalignment': 'bottom'})\n",
        "    else:\n",
        "        plt.imshow(wordcloud);\n",
        "        plt.title(title, fontdict={'size': title_size, 'color': 'green', \n",
        "                                  'verticalalignment': 'bottom'})\n",
        "    plt.axis('off');\n",
        "    plt.tight_layout()"
      ]
    },
    {
      "cell_type": "code",
      "execution_count": null,
      "metadata": {
        "id": "V9BG3_a-oc3u"
      },
      "outputs": [],
      "source": [
        "data = good_sites.text_sent\n",
        "data.reset_index(drop=True, inplace=True)"
      ]
    },
    {
      "cell_type": "code",
      "execution_count": null,
      "metadata": {
        "colab": {
          "base_uri": "https://localhost:8080/",
          "height": 1000
        },
        "id": "JADwpPKUoert",
        "outputId": "01c6aa95-b1cb-4fe6-c009-0bb4d8a5f866"
      },
      "outputs": [
        {
          "data": {
            "image/png": "[encoded data removed]",
            "text/plain": [
              "<Figure size 1728x1152 with 1 Axes>"
            ]
          },
          "metadata": {},
          "output_type": "display_data"
        }
      ],
      "source": [
        "common_text = str(data)\n",
        "common_mask = np.array(Image.open('good_url.png'))\n",
        "plot_wordcloud(common_text, common_mask, max_words=400, max_font_size=120, \n",
        "               title = 'Most common words use in good urls', title_size=15)"
      ]
    },
    {
      "cell_type": "code",
      "execution_count": null,
      "metadata": {
        "id": "LvDS_4QZuzXd"
      },
      "outputs": [],
      "source": [
        "data = bad_sites.text_sent\n",
        "data.reset_index(drop=True, inplace=True)"
      ]
    },
    {
      "cell_type": "code",
      "execution_count": null,
      "metadata": {
        "colab": {
          "base_uri": "https://localhost:8080/",
          "height": 1000
        },
        "id": "PVqrz45JvACQ",
        "outputId": "3ff87655-6e1e-4ccc-9d2c-e1820a94400a"
      },
      "outputs": [
        {
          "ename": "",
          "evalue": "",
          "output_type": "error",
          "traceback": [
            "\u001b[1;31mRunning cells with 'Python 3.10.1 64-bit' requires ipykernel package.\n",
            "\u001b[1;31mRun the following command to install 'ipykernel' into the Python environment. \n",
            "\u001b[1;31mCommand: '\"d:/program files x86/Python/python.exe\" -m pip install ipykernel -U --user --force-reinstall'"
          ]
        }
      ],
      "source": [
        "common_text = str(data)\n",
        "common_mask = np.array(Image.open('bad_url.png'))\n",
        "plot_wordcloud(common_text, common_mask, max_words=400, max_font_size=120, \n",
        "               title = 'Most common words use in bad urls', title_size=15)"
      ]
    },
    {
      "cell_type": "code",
      "execution_count": null,
      "metadata": {
        "id": "6SpurypC4Cni"
      },
      "outputs": [],
      "source": [
        "data = bad_sites.text_sent\n",
        "data.reset_index(drop=True, inplace=True)"
      ]
    },
    {
      "cell_type": "code",
      "execution_count": null,
      "metadata": {
        "id": "cJDQmHG-1LvT"
      },
      "outputs": [],
      "source": [
        "#create cv object\n",
        "cv = CountVectorizer()"
      ]
    },
    {
      "cell_type": "code",
      "execution_count": null,
      "metadata": {
        "id": "oa6PmUnY1NSw"
      },
      "outputs": [],
      "source": [
        "feature = cv.fit_transform(phish_data.text_sent)"
      ]
    },
    {
      "cell_type": "code",
      "execution_count": null,
      "metadata": {
        "colab": {
          "base_uri": "https://localhost:8080/"
        },
        "id": "lnGfU70y1SW4",
        "outputId": "60f249f6-09be-4a8b-f69c-233f5d28a694"
      },
      "outputs": [
        {
          "data": {
            "text/plain": [
              "array([[0, 0, 0, ..., 0, 0, 0],\n",
              "       [0, 0, 0, ..., 0, 0, 0],\n",
              "       [0, 0, 0, ..., 0, 0, 0],\n",
              "       [0, 0, 0, ..., 0, 0, 0],\n",
              "       [0, 0, 0, ..., 0, 0, 0]])"
            ]
          },
          "execution_count": 40,
          "metadata": {},
          "output_type": "execute_result"
        }
      ],
      "source": [
        "feature[:5].toarray()"
      ]
    },
    {
      "cell_type": "code",
      "execution_count": null,
      "metadata": {
        "id": "BijYpMRJ1U3O"
      },
      "outputs": [],
      "source": [
        "trainX, testX, trainY, testY = train_test_split(feature, phish_data.Label)"
      ]
    },
    {
      "cell_type": "code",
      "execution_count": null,
      "metadata": {
        "id": "q2N_QV5_1WqY"
      },
      "outputs": [],
      "source": [
        "# create lr object\n",
        "lr = LogisticRegression()"
      ]
    },
    {
      "cell_type": "code",
      "execution_count": null,
      "metadata": {
        "colab": {
          "base_uri": "https://localhost:8080/"
        },
        "id": "WL6Hmv_O1XxI",
        "outputId": "14287ae8-ebd7-4c21-d92b-cd4e7e2e4788"
      },
      "outputs": [
        {
          "data": {
            "text/plain": [
              "LogisticRegression()"
            ]
          },
          "execution_count": 43,
          "metadata": {},
          "output_type": "execute_result"
        }
      ],
      "source": [
        "lr.fit(trainX,trainY)"
      ]
    },
    {
      "cell_type": "code",
      "execution_count": null,
      "metadata": {
        "colab": {
          "base_uri": "https://localhost:8080/"
        },
        "id": "6XI6FvO61YrQ",
        "outputId": "d9cff119-0323-48b1-93ca-fd5c75ba4453"
      },
      "outputs": [
        {
          "data": {
            "text/plain": [
              "0.9631199167012531"
            ]
          },
          "execution_count": 44,
          "metadata": {},
          "output_type": "execute_result"
        }
      ],
      "source": [
        "lr.score(testX,testY)"
      ]
    },
    {
      "cell_type": "code",
      "execution_count": null,
      "metadata": {
        "id": "tLz5tQFC1hBc"
      },
      "outputs": [],
      "source": [
        "Scores_ml = {}\n",
        "Scores_ml['Logistic Regression'] = np.round(lr.score(testX,testY),2)"
      ]
    },
    {
      "cell_type": "code",
      "execution_count": null,
      "metadata": {
        "colab": {
          "base_uri": "https://localhost:8080/",
          "height": 560
        },
        "id": "rcpkE6pW1h6Y",
        "outputId": "1163edc4-5d4b-4aa6-f123-5560501e6337"
      },
      "outputs": [
        {
          "name": "stdout",
          "output_type": "stream",
          "text": [
            "Training Accuracy : 0.9778402898965799\n",
            "Testing Accuracy : 0.9631199167012531\n",
            "\n",
            "CLASSIFICATION REPORT\n",
            "\n",
            "              precision    recall  f1-score   support\n",
            "\n",
            "         Bad       0.90      0.97      0.93     36527\n",
            "        Good       0.99      0.96      0.97    100810\n",
            "\n",
            "    accuracy                           0.96    137337\n",
            "   macro avg       0.94      0.96      0.95    137337\n",
            "weighted avg       0.96      0.96      0.96    137337\n",
            "\n",
            "\n",
            "CONFUSION MATRIX\n"
          ]
        },
        {
          "data": {
            "text/plain": [
              "<matplotlib.axes._subplots.AxesSubplot at 0x7fa4dc2beed0>"
            ]
          },
          "execution_count": 46,
          "metadata": {},
          "output_type": "execute_result"
        },
        {
          "data": {
            "image/png": "[encoded data removed]",
            "text/plain": [
              "<Figure size 432x288 with 2 Axes>"
            ]
          },
          "metadata": {},
          "output_type": "display_data"
        }
      ],
      "source": [
        "print('Training Accuracy :',lr.score(trainX,trainY))\n",
        "print('Testing Accuracy :',lr.score(testX,testY))\n",
        "con_mat = pd.DataFrame(confusion_matrix(lr.predict(testX), testY),\n",
        "            columns = ['Predicted:Bad', 'Predicted:Good'],\n",
        "            index = ['Actual:Bad', 'Actual:Good'])\n",
        "\n",
        "\n",
        "print('\\nCLASSIFICATION REPORT\\n')\n",
        "print(classification_report(lr.predict(testX), testY,\n",
        "                            target_names =['Bad','Good']))\n",
        "\n",
        "print('\\nCONFUSION MATRIX')\n",
        "plt.figure(figsize= (6,4))\n",
        "sns.heatmap(con_mat, annot = True,fmt='d',cmap=\"YlGnBu\")"
      ]
    },
    {
      "cell_type": "code",
      "execution_count": null,
      "metadata": {
        "id": "VVtHc2ly1o9x"
      },
      "outputs": [],
      "source": [
        "# create mnb object\n",
        "mnb = MultinomialNB()"
      ]
    },
    {
      "cell_type": "code",
      "execution_count": null,
      "metadata": {
        "colab": {
          "base_uri": "https://localhost:8080/"
        },
        "id": "JmvAVTIC1p_R",
        "outputId": "3205554b-ed99-4a0f-891a-c21a4ff52e15"
      },
      "outputs": [
        {
          "data": {
            "text/plain": [
              "MultinomialNB()"
            ]
          },
          "execution_count": 48,
          "metadata": {},
          "output_type": "execute_result"
        }
      ],
      "source": [
        "mnb.fit(trainX,trainY)"
      ]
    },
    {
      "cell_type": "code",
      "execution_count": null,
      "metadata": {
        "colab": {
          "base_uri": "https://localhost:8080/"
        },
        "id": "CTSU7Wuh1qpy",
        "outputId": "d461b34a-9d93-4735-ec63-9535ac7366c1"
      },
      "outputs": [
        {
          "data": {
            "text/plain": [
              "0.957258422712015"
            ]
          },
          "execution_count": 49,
          "metadata": {},
          "output_type": "execute_result"
        }
      ],
      "source": [
        "mnb.score(testX,testY)"
      ]
    },
    {
      "cell_type": "code",
      "execution_count": null,
      "metadata": {
        "id": "W1V52wbv1sVy"
      },
      "outputs": [],
      "source": [
        "Scores_ml['MultinomialNB'] = np.round(mnb.score(testX,testY),2)"
      ]
    },
    {
      "cell_type": "code",
      "execution_count": null,
      "metadata": {
        "colab": {
          "base_uri": "https://localhost:8080/",
          "height": 560
        },
        "id": "EuMf9pBx1vDI",
        "outputId": "45085b71-9e25-45b5-aa9b-4fb07a8e05a6"
      },
      "outputs": [
        {
          "name": "stdout",
          "output_type": "stream",
          "text": [
            "Training Accuracy : 0.9741995927273434\n",
            "Testing Accuracy : 0.957258422712015\n",
            "\n",
            "CLASSIFICATION REPORT\n",
            "\n",
            "              precision    recall  f1-score   support\n",
            "\n",
            "         Bad       0.91      0.94      0.92     38104\n",
            "        Good       0.97      0.97      0.97     99233\n",
            "\n",
            "    accuracy                           0.96    137337\n",
            "   macro avg       0.94      0.95      0.95    137337\n",
            "weighted avg       0.96      0.96      0.96    137337\n",
            "\n",
            "\n",
            "CONFUSION MATRIX\n"
          ]
        },
        {
          "data": {
            "text/plain": [
              "<matplotlib.axes._subplots.AxesSubplot at 0x7fa50d07d390>"
            ]
          },
          "execution_count": 51,
          "metadata": {},
          "output_type": "execute_result"
        },
        {
          "data": {
            "image/png": "[encoded data removed]",
            "text/plain": [
              "<Figure size 432x288 with 2 Axes>"
            ]
          },
          "metadata": {},
          "output_type": "display_data"
        }
      ],
      "source": [
        "print('Training Accuracy :',mnb.score(trainX,trainY))\n",
        "print('Testing Accuracy :',mnb.score(testX,testY))\n",
        "con_mat = pd.DataFrame(confusion_matrix(mnb.predict(testX), testY),\n",
        "            columns = ['Predicted:Bad', 'Predicted:Good'],\n",
        "            index = ['Actual:Bad', 'Actual:Good'])\n",
        "\n",
        "\n",
        "print('\\nCLASSIFICATION REPORT\\n')\n",
        "print(classification_report(mnb.predict(testX), testY,\n",
        "                            target_names =['Bad','Good']))\n",
        "\n",
        "print('\\nCONFUSION MATRIX')\n",
        "plt.figure(figsize= (6,4))\n",
        "sns.heatmap(con_mat, annot = True,fmt='d',cmap=\"YlGnBu\")"
      ]
    },
    {
      "cell_type": "code",
      "execution_count": null,
      "metadata": {
        "colab": {
          "base_uri": "https://localhost:8080/",
          "height": 286
        },
        "id": "zl2-L4Lb1wxQ",
        "outputId": "a21cd84c-a5b5-438d-8309-d8ac2e28c366"
      },
      "outputs": [
        {
          "data": {
            "text/plain": [
              "<matplotlib.axes._subplots.AxesSubplot at 0x7fa4d96c9650>"
            ]
          },
          "execution_count": 52,
          "metadata": {},
          "output_type": "execute_result"
        },
        {
          "data": {
            "image/png": "[encoded data removed]",
            "text/plain": [
              "<Figure size 432x288 with 1 Axes>"
            ]
          },
          "metadata": {},
          "output_type": "display_data"
        }
      ],
      "source": [
        "acc = pd.DataFrame.from_dict(Scores_ml,orient = 'index',columns=['Accuracy'])\n",
        "sns.set_style('darkgrid')\n",
        "sns.barplot(acc.index,acc.Accuracy)"
      ]
    },
    {
      "cell_type": "code",
      "execution_count": null,
      "metadata": {
        "id": "2MuVHlnr1zzy"
      },
      "outputs": [],
      "source": [
        "pipeline_ls = make_pipeline(CountVectorizer(tokenizer = RegexpTokenizer(r'[A-Za-z]+').tokenize,stop_words='english'), LogisticRegression())\n",
        "##(r'\\b(?:http|ftp)s?://\\S*\\w|\\w+|[^\\w\\s]+') ([a-zA-Z]+)([0-9]+) -- these tolenizers giving me low "
      ]
    },
    {
      "cell_type": "code",
      "execution_count": null,
      "metadata": {
        "id": "W9TILetl10_w"
      },
      "outputs": [],
      "source": [
        "trainX, testX, trainY, testY = train_test_split(phish_data.URL, phish_data.Label)"
      ]
    },
    {
      "cell_type": "code",
      "execution_count": null,
      "metadata": {
        "colab": {
          "base_uri": "https://localhost:8080/"
        },
        "id": "yY09_GML1175",
        "outputId": "5549a40a-0dab-4552-f3a3-5494ba33d671"
      },
      "outputs": [
        {
          "data": {
            "text/plain": [
              "Pipeline(steps=[('countvectorizer',\n",
              "                 CountVectorizer(stop_words='english',\n",
              "                                 tokenizer=<bound method RegexpTokenizer.tokenize of RegexpTokenizer(pattern='[A-Za-z]+', gaps=False, discard_empty=True, flags=<RegexFlag.UNICODE|DOTALL|MULTILINE: 56>)>)),\n",
              "                ('logisticregression', LogisticRegression())])"
            ]
          },
          "execution_count": 55,
          "metadata": {},
          "output_type": "execute_result"
        }
      ],
      "source": [
        "pipeline_ls.fit(trainX,trainY)"
      ]
    },
    {
      "cell_type": "code",
      "execution_count": null,
      "metadata": {
        "colab": {
          "base_uri": "https://localhost:8080/"
        },
        "id": "K1jW6X4s13AS",
        "outputId": "c6ddd88a-646a-4cdd-8744-88540756c80c"
      },
      "outputs": [
        {
          "data": {
            "text/plain": [
              "0.9656101414768052"
            ]
          },
          "execution_count": 56,
          "metadata": {},
          "output_type": "execute_result"
        }
      ],
      "source": [
        "pipeline_ls.score(testX,testY) "
      ]
    },
    {
      "cell_type": "code",
      "execution_count": null,
      "metadata": {
        "colab": {
          "base_uri": "https://localhost:8080/",
          "height": 560
        },
        "id": "9VrjoqkC2BsI",
        "outputId": "63128d1d-a010-4ec3-a04a-28351e26c2ab"
      },
      "outputs": [
        {
          "name": "stdout",
          "output_type": "stream",
          "text": [
            "Training Accuracy : 0.9795465633032289\n",
            "Testing Accuracy : 0.9656101414768052\n",
            "\n",
            "CLASSIFICATION REPORT\n",
            "\n",
            "              precision    recall  f1-score   support\n",
            "\n",
            "         Bad       0.91      0.97      0.94     36873\n",
            "        Good       0.99      0.97      0.98    100464\n",
            "\n",
            "    accuracy                           0.97    137337\n",
            "   macro avg       0.95      0.97      0.96    137337\n",
            "weighted avg       0.97      0.97      0.97    137337\n",
            "\n",
            "\n",
            "CONFUSION MATRIX\n"
          ]
        },
        {
          "data": {
            "text/plain": [
              "<matplotlib.axes._subplots.AxesSubplot at 0x7fa4d9432750>"
            ]
          },
          "execution_count": 57,
          "metadata": {},
          "output_type": "execute_result"
        },
        {
          "data": {
            "image/png": "[encoded data removed]",
            "text/plain": [
              "<Figure size 432x288 with 2 Axes>"
            ]
          },
          "metadata": {},
          "output_type": "display_data"
        }
      ],
      "source": [
        "print('Training Accuracy :',pipeline_ls.score(trainX,trainY))\n",
        "print('Testing Accuracy :',pipeline_ls.score(testX,testY))\n",
        "con_mat = pd.DataFrame(confusion_matrix(pipeline_ls.predict(testX), testY),\n",
        "            columns = ['Predicted:Bad', 'Predicted:Good'],\n",
        "            index = ['Actual:Bad', 'Actual:Good'])\n",
        "\n",
        "\n",
        "print('\\nCLASSIFICATION REPORT\\n')\n",
        "print(classification_report(pipeline_ls.predict(testX), testY,\n",
        "                            target_names =['Bad','Good']))\n",
        "\n",
        "print('\\nCONFUSION MATRIX')\n",
        "plt.figure(figsize= (6,4))\n",
        "sns.heatmap(con_mat, annot = True,fmt='d',cmap=\"YlGnBu\")"
      ]
    },
    {
      "cell_type": "code",
      "execution_count": null,
      "metadata": {
        "id": "ES21UxGu2DBI"
      },
      "outputs": [],
      "source": [
        "pickle.dump(pipeline_ls,open('phishing.pkl','wb'))"
      ]
    },
    {
      "cell_type": "code",
      "execution_count": null,
      "metadata": {
        "colab": {
          "base_uri": "https://localhost:8080/"
        },
        "id": "Sc0HDipa2cvZ",
        "outputId": "708d6947-44c9-424d-ebdb-8250a0e3f5e5"
      },
      "outputs": [
        {
          "name": "stdout",
          "output_type": "stream",
          "text": [
            "0.9656101414768052\n"
          ]
        }
      ],
      "source": [
        "loaded_model = pickle.load(open('phishing.pkl', 'rb'))\n",
        "result = loaded_model.score(testX,testY)\n",
        "print(result)"
      ]
    },
    {
      "cell_type": "code",
      "execution_count": null,
      "metadata": {
        "colab": {
          "base_uri": "https://localhost:8080/"
        },
        "id": "Cy9bjoCw2lJC",
        "outputId": "260d9b5f-590d-4979-c51d-7884c4b365b9"
      },
      "outputs": [
        {
          "name": "stdout",
          "output_type": "stream",
          "text": [
            "['good' 'bad' 'bad' 'bad']\n",
            "******************************\n",
            "['bad' 'bad' 'good' 'good']\n"
          ]
        }
      ],
      "source": [
        "predict_bad = ['open.wynk.in/WynkGUJ','i.airtel.in/Hotstar','tubemoviez.exe','svision-online.de/mgfi/administrator/components/com_babackup/classes/fx29id1.txt']\n",
        "predict_good = ['shorturl.at/dtwU3','https://wa.me/917993391075','www.redtube.com','restorevisioncenters.com/html/technology.html']\n",
        "loaded_model = pickle.load(open('phishing.pkl', 'rb'))\n",
        "#predict_bad = vectorizers.transform(predict_bad)\n",
        "# predict_good = vectorizer.transform(predict_good)\n",
        "result = loaded_model.predict(predict_bad)\n",
        "result2 = loaded_model.predict(predict_good)\n",
        "print(result)\n",
        "print(\"*\"*30)\n",
        "print(result2)"
      ]
    }
  ],
  "metadata": {
    "colab": {
      "name": "Untitled2.ipynb",
      "provenance": []
    },
    "kernelspec": {
      "display_name": "Python 3.10.1 64-bit",
      "language": "python",
      "name": "python3"
    },
    "language_info": {
      "codemirror_mode": {
        "name": "ipython",
        "version": 3
      },
      "file_extension": ".py",
      "mimetype": "text/x-python",
      "name": "python",
      "nbconvert_exporter": "python",
      "pygments_lexer": "ipython3",
      "version": "3.10.1"
    },
    "vscode": {
      "interpreter": {
        "hash": "ac916370a39de9141e738a0a02953dac0e12d809766409e676e5b413eb533ec4"
      }
    }
  },
  "nbformat": 4,
  "nbformat_minor": 0
}
